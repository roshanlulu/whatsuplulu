{
 "cells": [
  {
   "cell_type": "markdown",
   "metadata": {},
   "source": [
    "## 1. Whatsuplulu - Get Twitter data"
   ]
  },
  {
   "cell_type": "code",
   "execution_count": 77,
   "metadata": {
    "collapsed": true
   },
   "outputs": [],
   "source": [
    "import twitter, re, datetime, pandas as pd\n",
    "\n",
    "twitter_keys = {\n",
    "    'consumer_key':        '3Fj7Pe0KT2ykaMqZO30bdur60',\n",
    "    'consumer_secret':     'IoIrOGZg8n4bXPVb9KWTlKnQSCnb9csXjPwGTjmFHSb8zaqt0w',\n",
    "    'access_token_key':    '60872859-5wHCWu9NOF29yX5AgosKPs6ZAebbAZH4ptAQTFhOq',\n",
    "    'access_token_secret': 'jjS7bK5DE2a2fFu5R8wafbBVURiStn8DB1aZRoDLoBUBP'\n",
    "}\n",
    "\n",
    "api = twitter.Api(\n",
    "    consumer_key         =   twitter_keys['consumer_key'],\n",
    "    consumer_secret      =   twitter_keys['consumer_secret'],\n",
    "    access_token_key     =   twitter_keys['access_token_key'],\n",
    "    access_token_secret  =   twitter_keys['access_token_secret']\n",
    ")\n"
   ]
  },
  {
   "cell_type": "code",
   "execution_count": 78,
   "metadata": {
    "collapsed": true
   },
   "outputs": [],
   "source": [
    "class TweetMiner(object):\n",
    "\n",
    "    result_limit    =   20    \n",
    "    api             =   False\n",
    "    data            =   []\n",
    "    \n",
    "    twitter_keys = {\n",
    "        'consumer_key':        '3Fj7Pe0KT2ykaMqZO30bdur60',\n",
    "        'consumer_secret':     'IoIrOGZg8n4bXPVb9KWTlKnQSCnb9csXjPwGTjmFHSb8zaqt0w',\n",
    "        'access_token_key':    '60872859-5wHCWu9NOF29yX5AgosKPs6ZAebbAZH4ptAQTFhOq',\n",
    "        'access_token_secret': 'jjS7bK5DE2a2fFu5R8wafbBVURiStn8DB1aZRoDLoBUBP'\n",
    "    }\n",
    "    \n",
    "    def __init__(self, keys_dict, api, result_limit = 20):\n",
    "        self.api = api\n",
    "        self.twitter_keys = keys_dict\n",
    "        self.result_limit = result_limit\n",
    "\n",
    "    def mine_user_tweets(self, user=\"roshanlulu\", mine_rewteets=False, max_pages=5):\n",
    "        data           =  []\n",
    "        last_tweet_id  =  False\n",
    "        page           =  1\n",
    "        \n",
    "        while page <= max_pages:\n",
    "            \n",
    "            if last_tweet_id:\n",
    "                statuses   =   self.api.GetUserTimeline(screen_name=user, count=self.result_limit, max_id=last_tweet_id - 1)        \n",
    "            else:\n",
    "                statuses   =   self.api.GetUserTimeline(screen_name=user, count=self.result_limit)\n",
    "                \n",
    "            for item in statuses:\n",
    "\n",
    "                mined = {\n",
    "                    'tweet_id':        item.id,\n",
    "                    'handle':          item.user.name,\n",
    "                    'retweet_count':   item.retweet_count,\n",
    "                    'text':            item.text,\n",
    "                    'mined_at':        datetime.datetime.now(),\n",
    "                    'created_at':      item.created_at,\n",
    "                }\n",
    "                \n",
    "                last_tweet_id = item.id\n",
    "                data.append(mined)\n",
    "                \n",
    "            page += 1\n",
    "            \n",
    "        return data"
   ]
  },
  {
   "cell_type": "code",
   "execution_count": 79,
   "metadata": {
    "collapsed": true
   },
   "outputs": [],
   "source": [
    "miner = TweetMiner(twitter_keys, api, result_limit=2)"
   ]
  },
  {
   "cell_type": "code",
   "execution_count": 80,
   "metadata": {
    "collapsed": true
   },
   "outputs": [
    {
     "ename": "KeyboardInterrupt",
     "evalue": "",
     "output_type": "error",
     "traceback": [
      "\u001b[0;31m---------------------------------------------------------------------------\u001b[0m",
      "\u001b[0;31mTypeError\u001b[0m                                 Traceback (most recent call last)",
      "\u001b[0;32m/Users/roshanlulu/anaconda3/lib/python3.6/site-packages/requests/packages/urllib3/connectionpool.py\u001b[0m in \u001b[0;36m_make_request\u001b[0;34m(self, conn, method, url, timeout, chunked, **httplib_request_kw)\u001b[0m\n\u001b[1;32m    378\u001b[0m             \u001b[0;32mtry\u001b[0m\u001b[0;34m:\u001b[0m  \u001b[0;31m# Python 2.7, use buffering of HTTP responses\u001b[0m\u001b[0;34m\u001b[0m\u001b[0m\n\u001b[0;32m--> 379\u001b[0;31m                 \u001b[0mhttplib_response\u001b[0m \u001b[0;34m=\u001b[0m \u001b[0mconn\u001b[0m\u001b[0;34m.\u001b[0m\u001b[0mgetresponse\u001b[0m\u001b[0;34m(\u001b[0m\u001b[0mbuffering\u001b[0m\u001b[0;34m=\u001b[0m\u001b[0;32mTrue\u001b[0m\u001b[0;34m)\u001b[0m\u001b[0;34m\u001b[0m\u001b[0m\n\u001b[0m\u001b[1;32m    380\u001b[0m             \u001b[0;32mexcept\u001b[0m \u001b[0mTypeError\u001b[0m\u001b[0;34m:\u001b[0m  \u001b[0;31m# Python 2.6 and older, Python 3\u001b[0m\u001b[0;34m\u001b[0m\u001b[0m\n",
      "\u001b[0;31mTypeError\u001b[0m: getresponse() got an unexpected keyword argument 'buffering'",
      "\nDuring handling of the above exception, another exception occurred:\n",
      "\u001b[0;31mKeyboardInterrupt\u001b[0m                         Traceback (most recent call last)",
      "\u001b[0;32m<ipython-input-80-825d27c9e784>\u001b[0m in \u001b[0;36m<module>\u001b[0;34m()\u001b[0m\n\u001b[0;32m----> 1\u001b[0;31m \u001b[0mredbubble\u001b[0m \u001b[0;34m=\u001b[0m \u001b[0mminer\u001b[0m\u001b[0;34m.\u001b[0m\u001b[0mmine_user_tweets\u001b[0m\u001b[0;34m(\u001b[0m\u001b[0muser\u001b[0m\u001b[0;34m=\u001b[0m\u001b[0;34m\"redbubble\"\u001b[0m\u001b[0;34m,\u001b[0m \u001b[0mmax_pages\u001b[0m\u001b[0;34m=\u001b[0m\u001b[0;36m100\u001b[0m\u001b[0;34m)\u001b[0m\u001b[0;34m\u001b[0m\u001b[0m\n\u001b[0m",
      "\u001b[0;32m<ipython-input-78-aa8cccd3f927>\u001b[0m in \u001b[0;36mmine_user_tweets\u001b[0;34m(self, user, mine_rewteets, max_pages)\u001b[0m\n\u001b[1;32m     25\u001b[0m \u001b[0;34m\u001b[0m\u001b[0m\n\u001b[1;32m     26\u001b[0m             \u001b[0;32mif\u001b[0m \u001b[0mlast_tweet_id\u001b[0m\u001b[0;34m:\u001b[0m\u001b[0;34m\u001b[0m\u001b[0m\n\u001b[0;32m---> 27\u001b[0;31m                 \u001b[0mstatuses\u001b[0m   \u001b[0;34m=\u001b[0m   \u001b[0mself\u001b[0m\u001b[0;34m.\u001b[0m\u001b[0mapi\u001b[0m\u001b[0;34m.\u001b[0m\u001b[0mGetUserTimeline\u001b[0m\u001b[0;34m(\u001b[0m\u001b[0mscreen_name\u001b[0m\u001b[0;34m=\u001b[0m\u001b[0muser\u001b[0m\u001b[0;34m,\u001b[0m \u001b[0mcount\u001b[0m\u001b[0;34m=\u001b[0m\u001b[0mself\u001b[0m\u001b[0;34m.\u001b[0m\u001b[0mresult_limit\u001b[0m\u001b[0;34m,\u001b[0m \u001b[0mmax_id\u001b[0m\u001b[0;34m=\u001b[0m\u001b[0mlast_tweet_id\u001b[0m \u001b[0;34m-\u001b[0m \u001b[0;36m1\u001b[0m\u001b[0;34m)\u001b[0m\u001b[0;34m\u001b[0m\u001b[0m\n\u001b[0m\u001b[1;32m     28\u001b[0m             \u001b[0;32melse\u001b[0m\u001b[0;34m:\u001b[0m\u001b[0;34m\u001b[0m\u001b[0m\n\u001b[1;32m     29\u001b[0m                 \u001b[0mstatuses\u001b[0m   \u001b[0;34m=\u001b[0m   \u001b[0mself\u001b[0m\u001b[0;34m.\u001b[0m\u001b[0mapi\u001b[0m\u001b[0;34m.\u001b[0m\u001b[0mGetUserTimeline\u001b[0m\u001b[0;34m(\u001b[0m\u001b[0mscreen_name\u001b[0m\u001b[0;34m=\u001b[0m\u001b[0muser\u001b[0m\u001b[0;34m,\u001b[0m \u001b[0mcount\u001b[0m\u001b[0;34m=\u001b[0m\u001b[0mself\u001b[0m\u001b[0;34m.\u001b[0m\u001b[0mresult_limit\u001b[0m\u001b[0;34m)\u001b[0m\u001b[0;34m\u001b[0m\u001b[0m\n",
      "\u001b[0;32m/Users/roshanlulu/anaconda3/lib/python3.6/site-packages/twitter/api.py\u001b[0m in \u001b[0;36mGetUserTimeline\u001b[0;34m(self, user_id, screen_name, since_id, max_id, count, include_rts, trim_user, exclude_replies)\u001b[0m\n\u001b[1;32m    762\u001b[0m         \u001b[0mparameters\u001b[0m\u001b[0;34m[\u001b[0m\u001b[0;34m'exclude_replies'\u001b[0m\u001b[0;34m]\u001b[0m \u001b[0;34m=\u001b[0m \u001b[0menf_type\u001b[0m\u001b[0;34m(\u001b[0m\u001b[0;34m'exclude_replies'\u001b[0m\u001b[0;34m,\u001b[0m \u001b[0mbool\u001b[0m\u001b[0;34m,\u001b[0m \u001b[0mexclude_replies\u001b[0m\u001b[0;34m)\u001b[0m\u001b[0;34m\u001b[0m\u001b[0m\n\u001b[1;32m    763\u001b[0m \u001b[0;34m\u001b[0m\u001b[0m\n\u001b[0;32m--> 764\u001b[0;31m         \u001b[0mresp\u001b[0m \u001b[0;34m=\u001b[0m \u001b[0mself\u001b[0m\u001b[0;34m.\u001b[0m\u001b[0m_RequestUrl\u001b[0m\u001b[0;34m(\u001b[0m\u001b[0murl\u001b[0m\u001b[0;34m,\u001b[0m \u001b[0;34m'GET'\u001b[0m\u001b[0;34m,\u001b[0m \u001b[0mdata\u001b[0m\u001b[0;34m=\u001b[0m\u001b[0mparameters\u001b[0m\u001b[0;34m)\u001b[0m\u001b[0;34m\u001b[0m\u001b[0m\n\u001b[0m\u001b[1;32m    765\u001b[0m         \u001b[0mdata\u001b[0m \u001b[0;34m=\u001b[0m \u001b[0mself\u001b[0m\u001b[0;34m.\u001b[0m\u001b[0m_ParseAndCheckTwitter\u001b[0m\u001b[0;34m(\u001b[0m\u001b[0mresp\u001b[0m\u001b[0;34m.\u001b[0m\u001b[0mcontent\u001b[0m\u001b[0;34m.\u001b[0m\u001b[0mdecode\u001b[0m\u001b[0;34m(\u001b[0m\u001b[0;34m'utf-8'\u001b[0m\u001b[0;34m)\u001b[0m\u001b[0;34m)\u001b[0m\u001b[0;34m\u001b[0m\u001b[0m\n\u001b[1;32m    766\u001b[0m \u001b[0;34m\u001b[0m\u001b[0m\n",
      "\u001b[0;32m/Users/roshanlulu/anaconda3/lib/python3.6/site-packages/twitter/api.py\u001b[0m in \u001b[0;36m_RequestUrl\u001b[0;34m(self, url, verb, data, json)\u001b[0m\n\u001b[1;32m   4938\u001b[0m             \u001b[0mdata\u001b[0m\u001b[0;34m[\u001b[0m\u001b[0;34m'tweet_mode'\u001b[0m\u001b[0;34m]\u001b[0m \u001b[0;34m=\u001b[0m \u001b[0mself\u001b[0m\u001b[0;34m.\u001b[0m\u001b[0mtweet_mode\u001b[0m\u001b[0;34m\u001b[0m\u001b[0m\n\u001b[1;32m   4939\u001b[0m             \u001b[0murl\u001b[0m \u001b[0;34m=\u001b[0m \u001b[0mself\u001b[0m\u001b[0;34m.\u001b[0m\u001b[0m_BuildUrl\u001b[0m\u001b[0;34m(\u001b[0m\u001b[0murl\u001b[0m\u001b[0;34m,\u001b[0m \u001b[0mextra_params\u001b[0m\u001b[0;34m=\u001b[0m\u001b[0mdata\u001b[0m\u001b[0;34m)\u001b[0m\u001b[0;34m\u001b[0m\u001b[0m\n\u001b[0;32m-> 4940\u001b[0;31m             \u001b[0mresp\u001b[0m \u001b[0;34m=\u001b[0m \u001b[0mrequests\u001b[0m\u001b[0;34m.\u001b[0m\u001b[0mget\u001b[0m\u001b[0;34m(\u001b[0m\u001b[0murl\u001b[0m\u001b[0;34m,\u001b[0m \u001b[0mauth\u001b[0m\u001b[0;34m=\u001b[0m\u001b[0mself\u001b[0m\u001b[0;34m.\u001b[0m\u001b[0m__auth\u001b[0m\u001b[0;34m,\u001b[0m \u001b[0mtimeout\u001b[0m\u001b[0;34m=\u001b[0m\u001b[0mself\u001b[0m\u001b[0;34m.\u001b[0m\u001b[0m_timeout\u001b[0m\u001b[0;34m)\u001b[0m\u001b[0;34m\u001b[0m\u001b[0m\n\u001b[0m\u001b[1;32m   4941\u001b[0m \u001b[0;34m\u001b[0m\u001b[0m\n\u001b[1;32m   4942\u001b[0m         \u001b[0;32melse\u001b[0m\u001b[0;34m:\u001b[0m\u001b[0;34m\u001b[0m\u001b[0m\n",
      "\u001b[0;32m/Users/roshanlulu/anaconda3/lib/python3.6/site-packages/requests/api.py\u001b[0m in \u001b[0;36mget\u001b[0;34m(url, params, **kwargs)\u001b[0m\n\u001b[1;32m     70\u001b[0m \u001b[0;34m\u001b[0m\u001b[0m\n\u001b[1;32m     71\u001b[0m     \u001b[0mkwargs\u001b[0m\u001b[0;34m.\u001b[0m\u001b[0msetdefault\u001b[0m\u001b[0;34m(\u001b[0m\u001b[0;34m'allow_redirects'\u001b[0m\u001b[0;34m,\u001b[0m \u001b[0;32mTrue\u001b[0m\u001b[0;34m)\u001b[0m\u001b[0;34m\u001b[0m\u001b[0m\n\u001b[0;32m---> 72\u001b[0;31m     \u001b[0;32mreturn\u001b[0m \u001b[0mrequest\u001b[0m\u001b[0;34m(\u001b[0m\u001b[0;34m'get'\u001b[0m\u001b[0;34m,\u001b[0m \u001b[0murl\u001b[0m\u001b[0;34m,\u001b[0m \u001b[0mparams\u001b[0m\u001b[0;34m=\u001b[0m\u001b[0mparams\u001b[0m\u001b[0;34m,\u001b[0m \u001b[0;34m**\u001b[0m\u001b[0mkwargs\u001b[0m\u001b[0;34m)\u001b[0m\u001b[0;34m\u001b[0m\u001b[0m\n\u001b[0m\u001b[1;32m     73\u001b[0m \u001b[0;34m\u001b[0m\u001b[0m\n\u001b[1;32m     74\u001b[0m \u001b[0;34m\u001b[0m\u001b[0m\n",
      "\u001b[0;32m/Users/roshanlulu/anaconda3/lib/python3.6/site-packages/requests/api.py\u001b[0m in \u001b[0;36mrequest\u001b[0;34m(method, url, **kwargs)\u001b[0m\n\u001b[1;32m     56\u001b[0m     \u001b[0;31m# cases, and look like a memory leak in others.\u001b[0m\u001b[0;34m\u001b[0m\u001b[0;34m\u001b[0m\u001b[0m\n\u001b[1;32m     57\u001b[0m     \u001b[0;32mwith\u001b[0m \u001b[0msessions\u001b[0m\u001b[0;34m.\u001b[0m\u001b[0mSession\u001b[0m\u001b[0;34m(\u001b[0m\u001b[0;34m)\u001b[0m \u001b[0;32mas\u001b[0m \u001b[0msession\u001b[0m\u001b[0;34m:\u001b[0m\u001b[0;34m\u001b[0m\u001b[0m\n\u001b[0;32m---> 58\u001b[0;31m         \u001b[0;32mreturn\u001b[0m \u001b[0msession\u001b[0m\u001b[0;34m.\u001b[0m\u001b[0mrequest\u001b[0m\u001b[0;34m(\u001b[0m\u001b[0mmethod\u001b[0m\u001b[0;34m=\u001b[0m\u001b[0mmethod\u001b[0m\u001b[0;34m,\u001b[0m \u001b[0murl\u001b[0m\u001b[0;34m=\u001b[0m\u001b[0murl\u001b[0m\u001b[0;34m,\u001b[0m \u001b[0;34m**\u001b[0m\u001b[0mkwargs\u001b[0m\u001b[0;34m)\u001b[0m\u001b[0;34m\u001b[0m\u001b[0m\n\u001b[0m\u001b[1;32m     59\u001b[0m \u001b[0;34m\u001b[0m\u001b[0m\n\u001b[1;32m     60\u001b[0m \u001b[0;34m\u001b[0m\u001b[0m\n",
      "\u001b[0;32m/Users/roshanlulu/anaconda3/lib/python3.6/site-packages/requests/sessions.py\u001b[0m in \u001b[0;36mrequest\u001b[0;34m(self, method, url, params, data, headers, cookies, files, auth, timeout, allow_redirects, proxies, hooks, stream, verify, cert, json)\u001b[0m\n\u001b[1;32m    516\u001b[0m         }\n\u001b[1;32m    517\u001b[0m         \u001b[0msend_kwargs\u001b[0m\u001b[0;34m.\u001b[0m\u001b[0mupdate\u001b[0m\u001b[0;34m(\u001b[0m\u001b[0msettings\u001b[0m\u001b[0;34m)\u001b[0m\u001b[0;34m\u001b[0m\u001b[0m\n\u001b[0;32m--> 518\u001b[0;31m         \u001b[0mresp\u001b[0m \u001b[0;34m=\u001b[0m \u001b[0mself\u001b[0m\u001b[0;34m.\u001b[0m\u001b[0msend\u001b[0m\u001b[0;34m(\u001b[0m\u001b[0mprep\u001b[0m\u001b[0;34m,\u001b[0m \u001b[0;34m**\u001b[0m\u001b[0msend_kwargs\u001b[0m\u001b[0;34m)\u001b[0m\u001b[0;34m\u001b[0m\u001b[0m\n\u001b[0m\u001b[1;32m    519\u001b[0m \u001b[0;34m\u001b[0m\u001b[0m\n\u001b[1;32m    520\u001b[0m         \u001b[0;32mreturn\u001b[0m \u001b[0mresp\u001b[0m\u001b[0;34m\u001b[0m\u001b[0m\n",
      "\u001b[0;32m/Users/roshanlulu/anaconda3/lib/python3.6/site-packages/requests/sessions.py\u001b[0m in \u001b[0;36msend\u001b[0;34m(self, request, **kwargs)\u001b[0m\n\u001b[1;32m    637\u001b[0m \u001b[0;34m\u001b[0m\u001b[0m\n\u001b[1;32m    638\u001b[0m         \u001b[0;31m# Send the request\u001b[0m\u001b[0;34m\u001b[0m\u001b[0;34m\u001b[0m\u001b[0m\n\u001b[0;32m--> 639\u001b[0;31m         \u001b[0mr\u001b[0m \u001b[0;34m=\u001b[0m \u001b[0madapter\u001b[0m\u001b[0;34m.\u001b[0m\u001b[0msend\u001b[0m\u001b[0;34m(\u001b[0m\u001b[0mrequest\u001b[0m\u001b[0;34m,\u001b[0m \u001b[0;34m**\u001b[0m\u001b[0mkwargs\u001b[0m\u001b[0;34m)\u001b[0m\u001b[0;34m\u001b[0m\u001b[0m\n\u001b[0m\u001b[1;32m    640\u001b[0m \u001b[0;34m\u001b[0m\u001b[0m\n\u001b[1;32m    641\u001b[0m         \u001b[0;31m# Total elapsed time of the request (approximately)\u001b[0m\u001b[0;34m\u001b[0m\u001b[0;34m\u001b[0m\u001b[0m\n",
      "\u001b[0;32m/Users/roshanlulu/anaconda3/lib/python3.6/site-packages/requests/adapters.py\u001b[0m in \u001b[0;36msend\u001b[0;34m(self, request, stream, timeout, verify, cert, proxies)\u001b[0m\n\u001b[1;32m    436\u001b[0m                     \u001b[0mdecode_content\u001b[0m\u001b[0;34m=\u001b[0m\u001b[0;32mFalse\u001b[0m\u001b[0;34m,\u001b[0m\u001b[0;34m\u001b[0m\u001b[0m\n\u001b[1;32m    437\u001b[0m                     \u001b[0mretries\u001b[0m\u001b[0;34m=\u001b[0m\u001b[0mself\u001b[0m\u001b[0;34m.\u001b[0m\u001b[0mmax_retries\u001b[0m\u001b[0;34m,\u001b[0m\u001b[0;34m\u001b[0m\u001b[0m\n\u001b[0;32m--> 438\u001b[0;31m                     \u001b[0mtimeout\u001b[0m\u001b[0;34m=\u001b[0m\u001b[0mtimeout\u001b[0m\u001b[0;34m\u001b[0m\u001b[0m\n\u001b[0m\u001b[1;32m    439\u001b[0m                 )\n\u001b[1;32m    440\u001b[0m \u001b[0;34m\u001b[0m\u001b[0m\n",
      "\u001b[0;32m/Users/roshanlulu/anaconda3/lib/python3.6/site-packages/requests/packages/urllib3/connectionpool.py\u001b[0m in \u001b[0;36murlopen\u001b[0;34m(self, method, url, body, headers, retries, redirect, assert_same_host, timeout, pool_timeout, release_conn, chunked, body_pos, **response_kw)\u001b[0m\n\u001b[1;32m    598\u001b[0m                                                   \u001b[0mtimeout\u001b[0m\u001b[0;34m=\u001b[0m\u001b[0mtimeout_obj\u001b[0m\u001b[0;34m,\u001b[0m\u001b[0;34m\u001b[0m\u001b[0m\n\u001b[1;32m    599\u001b[0m                                                   \u001b[0mbody\u001b[0m\u001b[0;34m=\u001b[0m\u001b[0mbody\u001b[0m\u001b[0;34m,\u001b[0m \u001b[0mheaders\u001b[0m\u001b[0;34m=\u001b[0m\u001b[0mheaders\u001b[0m\u001b[0;34m,\u001b[0m\u001b[0;34m\u001b[0m\u001b[0m\n\u001b[0;32m--> 600\u001b[0;31m                                                   chunked=chunked)\n\u001b[0m\u001b[1;32m    601\u001b[0m \u001b[0;34m\u001b[0m\u001b[0m\n\u001b[1;32m    602\u001b[0m             \u001b[0;31m# If we're going to release the connection in ``finally:``, then\u001b[0m\u001b[0;34m\u001b[0m\u001b[0;34m\u001b[0m\u001b[0m\n",
      "\u001b[0;32m/Users/roshanlulu/anaconda3/lib/python3.6/site-packages/requests/packages/urllib3/connectionpool.py\u001b[0m in \u001b[0;36m_make_request\u001b[0;34m(self, conn, method, url, timeout, chunked, **httplib_request_kw)\u001b[0m\n\u001b[1;32m    380\u001b[0m             \u001b[0;32mexcept\u001b[0m \u001b[0mTypeError\u001b[0m\u001b[0;34m:\u001b[0m  \u001b[0;31m# Python 2.6 and older, Python 3\u001b[0m\u001b[0;34m\u001b[0m\u001b[0m\n\u001b[1;32m    381\u001b[0m                 \u001b[0;32mtry\u001b[0m\u001b[0;34m:\u001b[0m\u001b[0;34m\u001b[0m\u001b[0m\n\u001b[0;32m--> 382\u001b[0;31m                     \u001b[0mhttplib_response\u001b[0m \u001b[0;34m=\u001b[0m \u001b[0mconn\u001b[0m\u001b[0;34m.\u001b[0m\u001b[0mgetresponse\u001b[0m\u001b[0;34m(\u001b[0m\u001b[0;34m)\u001b[0m\u001b[0;34m\u001b[0m\u001b[0m\n\u001b[0m\u001b[1;32m    383\u001b[0m                 \u001b[0;32mexcept\u001b[0m \u001b[0mException\u001b[0m \u001b[0;32mas\u001b[0m \u001b[0me\u001b[0m\u001b[0;34m:\u001b[0m\u001b[0;34m\u001b[0m\u001b[0m\n\u001b[1;32m    384\u001b[0m                     \u001b[0;31m# Remove the TypeError from the exception chain in Python 3;\u001b[0m\u001b[0;34m\u001b[0m\u001b[0;34m\u001b[0m\u001b[0m\n",
      "\u001b[0;32m/Users/roshanlulu/anaconda3/lib/python3.6/http/client.py\u001b[0m in \u001b[0;36mgetresponse\u001b[0;34m(self)\u001b[0m\n\u001b[1;32m   1329\u001b[0m         \u001b[0;32mtry\u001b[0m\u001b[0;34m:\u001b[0m\u001b[0;34m\u001b[0m\u001b[0m\n\u001b[1;32m   1330\u001b[0m             \u001b[0;32mtry\u001b[0m\u001b[0;34m:\u001b[0m\u001b[0;34m\u001b[0m\u001b[0m\n\u001b[0;32m-> 1331\u001b[0;31m                 \u001b[0mresponse\u001b[0m\u001b[0;34m.\u001b[0m\u001b[0mbegin\u001b[0m\u001b[0;34m(\u001b[0m\u001b[0;34m)\u001b[0m\u001b[0;34m\u001b[0m\u001b[0m\n\u001b[0m\u001b[1;32m   1332\u001b[0m             \u001b[0;32mexcept\u001b[0m \u001b[0mConnectionError\u001b[0m\u001b[0;34m:\u001b[0m\u001b[0;34m\u001b[0m\u001b[0m\n\u001b[1;32m   1333\u001b[0m                 \u001b[0mself\u001b[0m\u001b[0;34m.\u001b[0m\u001b[0mclose\u001b[0m\u001b[0;34m(\u001b[0m\u001b[0;34m)\u001b[0m\u001b[0;34m\u001b[0m\u001b[0m\n",
      "\u001b[0;32m/Users/roshanlulu/anaconda3/lib/python3.6/http/client.py\u001b[0m in \u001b[0;36mbegin\u001b[0;34m(self)\u001b[0m\n\u001b[1;32m    295\u001b[0m         \u001b[0;31m# read until we get a non-100 response\u001b[0m\u001b[0;34m\u001b[0m\u001b[0;34m\u001b[0m\u001b[0m\n\u001b[1;32m    296\u001b[0m         \u001b[0;32mwhile\u001b[0m \u001b[0;32mTrue\u001b[0m\u001b[0;34m:\u001b[0m\u001b[0;34m\u001b[0m\u001b[0m\n\u001b[0;32m--> 297\u001b[0;31m             \u001b[0mversion\u001b[0m\u001b[0;34m,\u001b[0m \u001b[0mstatus\u001b[0m\u001b[0;34m,\u001b[0m \u001b[0mreason\u001b[0m \u001b[0;34m=\u001b[0m \u001b[0mself\u001b[0m\u001b[0;34m.\u001b[0m\u001b[0m_read_status\u001b[0m\u001b[0;34m(\u001b[0m\u001b[0;34m)\u001b[0m\u001b[0;34m\u001b[0m\u001b[0m\n\u001b[0m\u001b[1;32m    298\u001b[0m             \u001b[0;32mif\u001b[0m \u001b[0mstatus\u001b[0m \u001b[0;34m!=\u001b[0m \u001b[0mCONTINUE\u001b[0m\u001b[0;34m:\u001b[0m\u001b[0;34m\u001b[0m\u001b[0m\n\u001b[1;32m    299\u001b[0m                 \u001b[0;32mbreak\u001b[0m\u001b[0;34m\u001b[0m\u001b[0m\n",
      "\u001b[0;32m/Users/roshanlulu/anaconda3/lib/python3.6/http/client.py\u001b[0m in \u001b[0;36m_read_status\u001b[0;34m(self)\u001b[0m\n\u001b[1;32m    256\u001b[0m \u001b[0;34m\u001b[0m\u001b[0m\n\u001b[1;32m    257\u001b[0m     \u001b[0;32mdef\u001b[0m \u001b[0m_read_status\u001b[0m\u001b[0;34m(\u001b[0m\u001b[0mself\u001b[0m\u001b[0;34m)\u001b[0m\u001b[0;34m:\u001b[0m\u001b[0;34m\u001b[0m\u001b[0m\n\u001b[0;32m--> 258\u001b[0;31m         \u001b[0mline\u001b[0m \u001b[0;34m=\u001b[0m \u001b[0mstr\u001b[0m\u001b[0;34m(\u001b[0m\u001b[0mself\u001b[0m\u001b[0;34m.\u001b[0m\u001b[0mfp\u001b[0m\u001b[0;34m.\u001b[0m\u001b[0mreadline\u001b[0m\u001b[0;34m(\u001b[0m\u001b[0m_MAXLINE\u001b[0m \u001b[0;34m+\u001b[0m \u001b[0;36m1\u001b[0m\u001b[0;34m)\u001b[0m\u001b[0;34m,\u001b[0m \u001b[0;34m\"iso-8859-1\"\u001b[0m\u001b[0;34m)\u001b[0m\u001b[0;34m\u001b[0m\u001b[0m\n\u001b[0m\u001b[1;32m    259\u001b[0m         \u001b[0;32mif\u001b[0m \u001b[0mlen\u001b[0m\u001b[0;34m(\u001b[0m\u001b[0mline\u001b[0m\u001b[0;34m)\u001b[0m \u001b[0;34m>\u001b[0m \u001b[0m_MAXLINE\u001b[0m\u001b[0;34m:\u001b[0m\u001b[0;34m\u001b[0m\u001b[0m\n\u001b[1;32m    260\u001b[0m             \u001b[0;32mraise\u001b[0m \u001b[0mLineTooLong\u001b[0m\u001b[0;34m(\u001b[0m\u001b[0;34m\"status line\"\u001b[0m\u001b[0;34m)\u001b[0m\u001b[0;34m\u001b[0m\u001b[0m\n",
      "\u001b[0;32m/Users/roshanlulu/anaconda3/lib/python3.6/socket.py\u001b[0m in \u001b[0;36mreadinto\u001b[0;34m(self, b)\u001b[0m\n\u001b[1;32m    584\u001b[0m         \u001b[0;32mwhile\u001b[0m \u001b[0;32mTrue\u001b[0m\u001b[0;34m:\u001b[0m\u001b[0;34m\u001b[0m\u001b[0m\n\u001b[1;32m    585\u001b[0m             \u001b[0;32mtry\u001b[0m\u001b[0;34m:\u001b[0m\u001b[0;34m\u001b[0m\u001b[0m\n\u001b[0;32m--> 586\u001b[0;31m                 \u001b[0;32mreturn\u001b[0m \u001b[0mself\u001b[0m\u001b[0;34m.\u001b[0m\u001b[0m_sock\u001b[0m\u001b[0;34m.\u001b[0m\u001b[0mrecv_into\u001b[0m\u001b[0;34m(\u001b[0m\u001b[0mb\u001b[0m\u001b[0;34m)\u001b[0m\u001b[0;34m\u001b[0m\u001b[0m\n\u001b[0m\u001b[1;32m    587\u001b[0m             \u001b[0;32mexcept\u001b[0m \u001b[0mtimeout\u001b[0m\u001b[0;34m:\u001b[0m\u001b[0;34m\u001b[0m\u001b[0m\n\u001b[1;32m    588\u001b[0m                 \u001b[0mself\u001b[0m\u001b[0;34m.\u001b[0m\u001b[0m_timeout_occurred\u001b[0m \u001b[0;34m=\u001b[0m \u001b[0;32mTrue\u001b[0m\u001b[0;34m\u001b[0m\u001b[0m\n",
      "\u001b[0;32m/Users/roshanlulu/anaconda3/lib/python3.6/site-packages/requests/packages/urllib3/contrib/pyopenssl.py\u001b[0m in \u001b[0;36mrecv_into\u001b[0;34m(self, *args, **kwargs)\u001b[0m\n\u001b[1;32m    275\u001b[0m     \u001b[0;32mdef\u001b[0m \u001b[0mrecv_into\u001b[0m\u001b[0;34m(\u001b[0m\u001b[0mself\u001b[0m\u001b[0;34m,\u001b[0m \u001b[0;34m*\u001b[0m\u001b[0margs\u001b[0m\u001b[0;34m,\u001b[0m \u001b[0;34m**\u001b[0m\u001b[0mkwargs\u001b[0m\u001b[0;34m)\u001b[0m\u001b[0;34m:\u001b[0m\u001b[0;34m\u001b[0m\u001b[0m\n\u001b[1;32m    276\u001b[0m         \u001b[0;32mtry\u001b[0m\u001b[0;34m:\u001b[0m\u001b[0;34m\u001b[0m\u001b[0m\n\u001b[0;32m--> 277\u001b[0;31m             \u001b[0;32mreturn\u001b[0m \u001b[0mself\u001b[0m\u001b[0;34m.\u001b[0m\u001b[0mconnection\u001b[0m\u001b[0;34m.\u001b[0m\u001b[0mrecv_into\u001b[0m\u001b[0;34m(\u001b[0m\u001b[0;34m*\u001b[0m\u001b[0margs\u001b[0m\u001b[0;34m,\u001b[0m \u001b[0;34m**\u001b[0m\u001b[0mkwargs\u001b[0m\u001b[0;34m)\u001b[0m\u001b[0;34m\u001b[0m\u001b[0m\n\u001b[0m\u001b[1;32m    278\u001b[0m         \u001b[0;32mexcept\u001b[0m \u001b[0mOpenSSL\u001b[0m\u001b[0;34m.\u001b[0m\u001b[0mSSL\u001b[0m\u001b[0;34m.\u001b[0m\u001b[0mSysCallError\u001b[0m \u001b[0;32mas\u001b[0m \u001b[0me\u001b[0m\u001b[0;34m:\u001b[0m\u001b[0;34m\u001b[0m\u001b[0m\n\u001b[1;32m    279\u001b[0m             \u001b[0;32mif\u001b[0m \u001b[0mself\u001b[0m\u001b[0;34m.\u001b[0m\u001b[0msuppress_ragged_eofs\u001b[0m \u001b[0;32mand\u001b[0m \u001b[0me\u001b[0m\u001b[0;34m.\u001b[0m\u001b[0margs\u001b[0m \u001b[0;34m==\u001b[0m \u001b[0;34m(\u001b[0m\u001b[0;34m-\u001b[0m\u001b[0;36m1\u001b[0m\u001b[0;34m,\u001b[0m \u001b[0;34m'Unexpected EOF'\u001b[0m\u001b[0;34m)\u001b[0m\u001b[0;34m:\u001b[0m\u001b[0;34m\u001b[0m\u001b[0m\n",
      "\u001b[0;32m/Users/roshanlulu/anaconda3/lib/python3.6/site-packages/OpenSSL/SSL.py\u001b[0m in \u001b[0;36mrecv_into\u001b[0;34m(self, buffer, nbytes, flags)\u001b[0m\n\u001b[1;32m   1332\u001b[0m             \u001b[0mresult\u001b[0m \u001b[0;34m=\u001b[0m \u001b[0m_lib\u001b[0m\u001b[0;34m.\u001b[0m\u001b[0mSSL_peek\u001b[0m\u001b[0;34m(\u001b[0m\u001b[0mself\u001b[0m\u001b[0;34m.\u001b[0m\u001b[0m_ssl\u001b[0m\u001b[0;34m,\u001b[0m \u001b[0mbuf\u001b[0m\u001b[0;34m,\u001b[0m \u001b[0mnbytes\u001b[0m\u001b[0;34m)\u001b[0m\u001b[0;34m\u001b[0m\u001b[0m\n\u001b[1;32m   1333\u001b[0m         \u001b[0;32melse\u001b[0m\u001b[0;34m:\u001b[0m\u001b[0;34m\u001b[0m\u001b[0m\n\u001b[0;32m-> 1334\u001b[0;31m             \u001b[0mresult\u001b[0m \u001b[0;34m=\u001b[0m \u001b[0m_lib\u001b[0m\u001b[0;34m.\u001b[0m\u001b[0mSSL_read\u001b[0m\u001b[0;34m(\u001b[0m\u001b[0mself\u001b[0m\u001b[0;34m.\u001b[0m\u001b[0m_ssl\u001b[0m\u001b[0;34m,\u001b[0m \u001b[0mbuf\u001b[0m\u001b[0;34m,\u001b[0m \u001b[0mnbytes\u001b[0m\u001b[0;34m)\u001b[0m\u001b[0;34m\u001b[0m\u001b[0m\n\u001b[0m\u001b[1;32m   1335\u001b[0m         \u001b[0mself\u001b[0m\u001b[0;34m.\u001b[0m\u001b[0m_raise_ssl_error\u001b[0m\u001b[0;34m(\u001b[0m\u001b[0mself\u001b[0m\u001b[0;34m.\u001b[0m\u001b[0m_ssl\u001b[0m\u001b[0;34m,\u001b[0m \u001b[0mresult\u001b[0m\u001b[0;34m)\u001b[0m\u001b[0;34m\u001b[0m\u001b[0m\n\u001b[1;32m   1336\u001b[0m \u001b[0;34m\u001b[0m\u001b[0m\n",
      "\u001b[0;31mKeyboardInterrupt\u001b[0m: "
     ]
    }
   ],
   "source": [
    "redbubble = miner.mine_user_tweets(user=\"redbubble\", max_pages=100)"
   ]
  },
  {
   "cell_type": "code",
   "execution_count": 17,
   "metadata": {
    "collapsed": true
   },
   "outputs": [
    {
     "name": "stdout",
     "output_type": "stream",
     "text": [
      "[{'tweet_id': 883113338401689604, 'handle': 'Redbubble', 'retweet_count': 0, 'text': 'No pugs were harmed in the making of this video. We promise. » https://t.co/E1SlJvJjCt https://t.co/x1XNyuDZHP', 'mined_at': datetime.datetime(2017, 7, 7, 19, 6, 24, 412609), 'created_at': 'Fri Jul 07 00:00:01 +0000 2017'}, {'tweet_id': 883083162892599297, 'handle': 'Redbubble', 'retweet_count': 3, 'text': 'Getting a new Redbubble Studio Pouch be like #walkintotheroompursefirst 😛✌️ #RedbubbleReaction https://t.co/FHfrFu3wIn', 'mined_at': datetime.datetime(2017, 7, 7, 19, 6, 24, 412617), 'created_at': 'Thu Jul 06 22:00:07 +0000 2017'}, {'tweet_id': 883078945498816512, 'handle': 'Redbubble', 'retweet_count': 1, 'text': 'RT @melindamgolden: Finally starting my sticker collection! Thanks @redbubble https://t.co/nT3Ael4Jp3', 'mined_at': datetime.datetime(2017, 7, 7, 19, 6, 24, 767708), 'created_at': 'Thu Jul 06 21:43:22 +0000 2017'}, {'tweet_id': 883037838627016704, 'handle': 'Redbubble', 'retweet_count': 7, 'text': 'One corgi, two corgis, ALL THE #CORGIS »https://t.co/fiDNsEUScO 😍 https://t.co/gZrTr8PgBN', 'mined_at': datetime.datetime(2017, 7, 7, 19, 6, 24, 767716), 'created_at': 'Thu Jul 06 19:00:01 +0000 2017'}, {'tweet_id': 883029760892223488, 'handle': 'Redbubble', 'retweet_count': 1, 'text': 'RT @reykelll: i have an obsession with @redbubble lol https://t.co/E34aQZnHk8', 'mined_at': datetime.datetime(2017, 7, 7, 19, 6, 25, 84768), 'created_at': 'Thu Jul 06 18:27:55 +0000 2017'}, {'tweet_id': 882992539590119425, 'handle': 'Redbubble', 'retweet_count': 3, 'text': \"3 sizes. Thousands of designs. Find your perfect pillows. ✌️ Make your couch's day, and shop Throw Pillows now »… https://t.co/D0EHBgLGDi\", 'mined_at': datetime.datetime(2017, 7, 7, 19, 6, 25, 84776), 'created_at': 'Thu Jul 06 16:00:01 +0000 2017'}, {'tweet_id': 882749949863010305, 'handle': 'Redbubble', 'retweet_count': 4, 'text': \"RT @RamonaMGreene: @redbubble My socks match and I'm always very kind to pandas. 😄❤️🐼 https://t.co/Ug1HwoBZoC\", 'mined_at': datetime.datetime(2017, 7, 7, 19, 6, 25, 419138), 'created_at': 'Wed Jul 05 23:56:03 +0000 2017'}, {'tweet_id': 882723261594845184, 'handle': 'Redbubble', 'retweet_count': 1, 'text': 'RT @blueveinblues: it was time for an update. 👻 @redbubble https://t.co/KfpJS3RnBM', 'mined_at': datetime.datetime(2017, 7, 7, 19, 6, 25, 419146), 'created_at': 'Wed Jul 05 22:10:00 +0000 2017'}, {'tweet_id': 882720747617124358, 'handle': 'Redbubble', 'retweet_count': 1, 'text': \"Ice cream, you scream, the cops come, it's #awkward » https://t.co/gZNCbajt9q https://t.co/7hErwt9HKG\", 'mined_at': datetime.datetime(2017, 7, 7, 19, 6, 25, 736893), 'created_at': 'Wed Jul 05 22:00:01 +0000 2017'}, {'tweet_id': 882718645746450432, 'handle': 'Redbubble', 'retweet_count': 3, 'text': 'RT @hugorojo: Had some @redbubble goodies waiting for me at the office today https://t.co/pVsGhNbP2s', 'mined_at': datetime.datetime(2017, 7, 7, 19, 6, 25, 736901), 'created_at': 'Wed Jul 05 21:51:39 +0000 2017'}, {'tweet_id': 882717675297718272, 'handle': 'Redbubble', 'retweet_count': 1, 'text': 'RT @animeshizzz: Just ordered me some bomb ass stickers on @redbubble 😍🔥💯', 'mined_at': datetime.datetime(2017, 7, 7, 19, 6, 26, 56382), 'created_at': 'Wed Jul 05 21:47:48 +0000 2017'}, {'tweet_id': 882660350981746688, 'handle': 'Redbubble', 'retweet_count': 0, 'text': 'FACT: Applying Redbubble stickers to your #skateboard makes falling off 37% less painful https://t.co/xGfV7agprg', 'mined_at': datetime.datetime(2017, 7, 7, 19, 6, 26, 56390), 'created_at': 'Wed Jul 05 18:00:01 +0000 2017'}, {'tweet_id': 882656782648188928, 'handle': 'Redbubble', 'retweet_count': 2, 'text': \"RT @BerglundMaria: This isn't even all of them, I'm literally your biggest fan @redbubble https://t.co/3JIkozP19v\", 'mined_at': datetime.datetime(2017, 7, 7, 19, 6, 26, 390581), 'created_at': 'Wed Jul 05 17:45:50 +0000 2017'}, {'tweet_id': 882630173744607233, 'handle': 'Redbubble', 'retweet_count': 9, 'text': 'When someone asks if your art is on Redbubble 😄👍 #RedbubbleReaction https://t.co/U0A729RWFT', 'mined_at': datetime.datetime(2017, 7, 7, 19, 6, 26, 390590), 'created_at': 'Wed Jul 05 16:00:06 +0000 2017'}, {'tweet_id': 882373459870928896, 'handle': 'Redbubble', 'retweet_count': 2, 'text': '🎆 Redbubble, white, and blue. Happy #IndependenceDay!🔴◽🔵🎇 #July4 #4thofJuly https://t.co/4bORxw1SlE', 'mined_at': datetime.datetime(2017, 7, 7, 19, 6, 26, 696381), 'created_at': 'Tue Jul 04 23:00:01 +0000 2017'}, {'tweet_id': 882343285704069121, 'handle': 'Redbubble', 'retweet_count': 3, 'text': 'When your newly uploaded design looks ace on a throw pillow 👏 #RedbubbleFeels #4thOfJuly https://t.co/mbDnaXnrGC', 'mined_at': datetime.datetime(2017, 7, 7, 19, 6, 26, 696389), 'created_at': 'Tue Jul 04 21:00:07 +0000 2017'}, {'tweet_id': 882297984989499393, 'handle': 'Redbubble', 'retweet_count': 2, 'text': 'TFW your Redbubble order arrives earlier than expected. 🎆 #4thOfJuly https://t.co/klNzhFIGCa', 'mined_at': datetime.datetime(2017, 7, 7, 19, 6, 27, 14970), 'created_at': 'Tue Jul 04 18:00:06 +0000 2017'}, {'tweet_id': 882267763741523968, 'handle': 'Redbubble', 'retweet_count': 12, 'text': 'Happy b-day, USA. Cue fireworks. 🎆 Use code FREEDOM20 by July 4 at 11:59pm PT. » https://t.co/PSQPFamey9… https://t.co/uF3K8Lpbfs', 'mined_at': datetime.datetime(2017, 7, 7, 19, 6, 27, 14977), 'created_at': 'Tue Jul 04 16:00:01 +0000 2017'}, {'tweet_id': 881995996644999168, 'handle': 'Redbubble', 'retweet_count': 12, 'text': 'How it feels when you make multiple sales in one day. 💸  👏  #RedbubbleFeels https://t.co/2A7Y54R6vg', 'mined_at': datetime.datetime(2017, 7, 7, 19, 6, 28, 328512), 'created_at': 'Mon Jul 03 22:00:06 +0000 2017'}, {'tweet_id': 881935576353714176, 'handle': 'Redbubble', 'retweet_count': 15, 'text': \"Be a toucan, not a toucan't! 💪  Toucan do it &gt;&gt;https://t.co/6EuMZjvzmz #MondayMotivation https://t.co/DXlFJtlZlL\", 'mined_at': datetime.datetime(2017, 7, 7, 19, 6, 28, 328520), 'created_at': 'Mon Jul 03 18:00:01 +0000 2017'}, {'tweet_id': 881905375888277504, 'handle': 'Redbubble', 'retweet_count': 6, 'text': 'Let your fish flag fly for Independence Day. 🐳 Use code FREEDOM20 by July 3 at 11:59pm PT. »… https://t.co/qv0gtX9NOG', 'mined_at': datetime.datetime(2017, 7, 7, 19, 6, 28, 669815), 'created_at': 'Mon Jul 03 16:00:01 +0000 2017'}, {'tweet_id': 881648685821677568, 'handle': 'Redbubble', 'retweet_count': 3, 'text': 'We like our cases like we like our coffee: black with a touch of cream. Art via @weirdoodle https://t.co/mx4pEmtU3R', 'mined_at': datetime.datetime(2017, 7, 7, 19, 6, 28, 669823), 'created_at': 'Sun Jul 02 23:00:01 +0000 2017'}, {'tweet_id': 881603410553970688, 'handle': 'Redbubble', 'retweet_count': 4, 'text': 'When a Redbubble sale is now over, but you placed your order in time. 😁  #RedbubbleReaction https://t.co/NcT14iTJDK', 'mined_at': datetime.datetime(2017, 7, 7, 19, 6, 28, 982067), 'created_at': 'Sun Jul 02 20:00:07 +0000 2017'}, {'tweet_id': 881558087404048384, 'handle': 'Redbubble', 'retweet_count': 7, 'text': \"Need a lil good luck? We've got your lucky charms right here! And we don't mean the cereal🍀  https://t.co/MflgwgJxG2 https://t.co/KKo2hczxiG\", 'mined_at': datetime.datetime(2017, 7, 7, 19, 6, 28, 982075), 'created_at': 'Sun Jul 02 17:00:01 +0000 2017'}, {'tweet_id': 881286297381466112, 'handle': 'Redbubble', 'retweet_count': 4, 'text': '\"Damn that acid reflux\" (but really, this art is awesome) » https://t.co/AcZ5E9DSdm https://t.co/ZAfBp2dV9s', 'mined_at': datetime.datetime(2017, 7, 7, 19, 6, 29, 314970), 'created_at': 'Sat Jul 01 23:00:01 +0000 2017'}, {'tweet_id': 881241030145839108, 'handle': 'Redbubble', 'retweet_count': 27, 'text': 'When you make two Artist sales in one day. 😝 https://t.co/JJFVnN80iK', 'mined_at': datetime.datetime(2017, 7, 7, 19, 6, 29, 314982), 'created_at': 'Sat Jul 01 20:00:08 +0000 2017'}, {'tweet_id': 881195700004032512, 'handle': 'Redbubble', 'retweet_count': 2, 'text': \"It's Saturday morning, go ahead and steep in. »  https://t.co/E8NarXHdnl https://t.co/HkJkggmkh7\", 'mined_at': datetime.datetime(2017, 7, 7, 19, 6, 29, 967149), 'created_at': 'Sat Jul 01 17:00:01 +0000 2017'}, {'tweet_id': 880923909058703360, 'handle': 'Redbubble', 'retweet_count': 18, 'text': 'Perhaps the saddest doodle ever made. 😭 Thank goodness for #JurassicPark » https://t.co/BY7722qlTF 👌 https://t.co/q3zD9hblZZ', 'mined_at': datetime.datetime(2017, 7, 7, 19, 6, 29, 967169), 'created_at': 'Fri Jun 30 23:00:01 +0000 2017'}, {'tweet_id': 880894623702368256, 'handle': 'Redbubble', 'retweet_count': 10, 'text': 'Today is a wonderful day. 🇩🇪💕 #ehefüralle #loveislove » https://t.co/5ZTzAwHS2O https://t.co/HXgPoD4GXR', 'mined_at': datetime.datetime(2017, 7, 7, 19, 6, 30, 282940), 'created_at': 'Fri Jun 30 21:03:39 +0000 2017'}, {'tweet_id': 880889102203207681, 'handle': 'Redbubble', 'retweet_count': 0, 'text': '@redroodle  https://t.co/Fob827q9d5', 'mined_at': datetime.datetime(2017, 7, 7, 19, 6, 30, 282951), 'created_at': 'Fri Jun 30 20:41:42 +0000 2017'}, {'tweet_id': 880888363477114880, 'handle': 'Redbubble', 'retweet_count': 0, 'text': '@gomarybetsy  https://t.co/a1jeNkwhnG', 'mined_at': datetime.datetime(2017, 7, 7, 19, 6, 30, 593896), 'created_at': 'Fri Jun 30 20:38:46 +0000 2017'}, {'tweet_id': 880887988544192513, 'handle': 'Redbubble', 'retweet_count': 1, 'text': '@jessxcascone  https://t.co/wrVY86lAb9', 'mined_at': datetime.datetime(2017, 7, 7, 19, 6, 30, 593904), 'created_at': 'Fri Jun 30 20:37:17 +0000 2017'}, {'tweet_id': 880877102194610176, 'handle': 'Redbubble', 'retweet_count': 1, 'text': '@SamLeslieNaser  https://t.co/Hut42Tj3ZV', 'mined_at': datetime.datetime(2017, 7, 7, 19, 6, 30, 914943), 'created_at': 'Fri Jun 30 19:54:01 +0000 2017'}, {'tweet_id': 880872676507529216, 'handle': 'Redbubble', 'retweet_count': 1, 'text': '@nicolizzzle  https://t.co/ncPw8n00MO', 'mined_at': datetime.datetime(2017, 7, 7, 19, 6, 30, 914951), 'created_at': 'Fri Jun 30 19:36:26 +0000 2017'}, {'tweet_id': 880849760533397504, 'handle': 'Redbubble', 'retweet_count': 0, 'text': '@M1ckyMack  https://t.co/Z5HWwTUDXl', 'mined_at': datetime.datetime(2017, 7, 7, 19, 6, 31, 243461), 'created_at': 'Fri Jun 30 18:05:22 +0000 2017'}, {'tweet_id': 880849625753583616, 'handle': 'Redbubble', 'retweet_count': 0, 'text': '@NFroome  https://t.co/B66sxKu1TX', 'mined_at': datetime.datetime(2017, 7, 7, 19, 6, 31, 243475), 'created_at': 'Fri Jun 30 18:04:50 +0000 2017'}, {'tweet_id': 880838605337317376, 'handle': 'Redbubble', 'retweet_count': 3, 'text': 'RT @gnarledbranch: Thanks for the mention @Redbubble! https://t.co/RBdgbCygMt  #redbubble #robots #art #painting #nerd #geek #davidirvine', 'mined_at': datetime.datetime(2017, 7, 7, 19, 6, 31, 600844), 'created_at': 'Fri Jun 30 17:21:03 +0000 2017'}, {'tweet_id': 880818238292144128, 'handle': 'Redbubble', 'retweet_count': 7, 'text': 'Telling your BFF that you made a sale on Redbubble 😛 #RedbubbleReaction #mycatismybff https://t.co/XL3hX1ZRf7', 'mined_at': datetime.datetime(2017, 7, 7, 19, 6, 31, 600852), 'created_at': 'Fri Jun 30 16:00:07 +0000 2017'}, {'tweet_id': 880814866289770497, 'handle': 'Redbubble', 'retweet_count': 1, 'text': 'RT @nammm8989: I have a new found obsession with @redbubble and my bank account does not appreciate it.', 'mined_at': datetime.datetime(2017, 7, 7, 19, 6, 31, 994832), 'created_at': 'Fri Jun 30 15:46:43 +0000 2017'}, {'tweet_id': 880546444566024194, 'handle': 'Redbubble', 'retweet_count': 4, 'text': 'When someone likes all your artworks on your Redbubble page. 👍 https://t.co/Lbwyu8T3S5', 'mined_at': datetime.datetime(2017, 7, 7, 19, 6, 31, 994840), 'created_at': 'Thu Jun 29 22:00:06 +0000 2017'}, {'tweet_id': 880501122804457472, 'handle': 'Redbubble', 'retweet_count': 4, 'text': 'We are guilty of #procrastinating in all of the Clouds » https://t.co/l0IGOUQQUM https://t.co/O4wJtwZAwX', 'mined_at': datetime.datetime(2017, 7, 7, 19, 6, 32, 321296), 'created_at': 'Thu Jun 29 19:00:01 +0000 2017'}, {'tweet_id': 880466246034104321, 'handle': 'Redbubble', 'retweet_count': 1, 'text': \"RT @teatimeroses: My @redbubble jumper just arrived. I'm never wearing anything else again it's so COZY!\", 'mined_at': datetime.datetime(2017, 7, 7, 19, 6, 32, 321312), 'created_at': 'Thu Jun 29 16:41:25 +0000 2017'}, {'tweet_id': 880455824803586048, 'handle': 'Redbubble', 'retweet_count': 12, 'text': 'Make a statement. Get 25% off phone cases and wallets. 🙌 Use code PHONE25 by June 29 at 11:59pm PT. »… https://t.co/YZcMoAEFQJ', 'mined_at': datetime.datetime(2017, 7, 7, 19, 6, 32, 634516), 'created_at': 'Thu Jun 29 16:00:01 +0000 2017'}, {'tweet_id': 880184033203847168, 'handle': 'Redbubble', 'retweet_count': 2, 'text': \"10 #Dinosaur products that will rock your world. Check 'em out &gt;&gt;  https://t.co/7IPDbOn0nm https://t.co/428hxS4NMB\", 'mined_at': datetime.datetime(2017, 7, 7, 19, 6, 32, 634524), 'created_at': 'Wed Jun 28 22:00:01 +0000 2017'}, {'tweet_id': 880153834076635138, 'handle': 'Redbubble', 'retweet_count': 2, 'text': 'How do you not have anything but sweet dreams with these yummy throw pillows? 🍩💤  Art via @nanlawson 🙌 https://t.co/LYN6JXwhkX', 'mined_at': datetime.datetime(2017, 7, 7, 19, 6, 32, 949094), 'created_at': 'Wed Jun 28 20:00:01 +0000 2017'}, {'tweet_id': 880123658278248451, 'handle': 'Redbubble', 'retweet_count': 1, 'text': \"TFW you enter the incorrect shipping details at checkout. 😩 Here's how you fix it 😛  &gt;&gt; https://t.co/6P7PBY1VsA https://t.co/SLxKMh7BWn\", 'mined_at': datetime.datetime(2017, 7, 7, 19, 6, 32, 949103), 'created_at': 'Wed Jun 28 18:00:06 +0000 2017'}, {'tweet_id': 880116522135334912, 'handle': 'Redbubble', 'retweet_count': 2, 'text': 'RT @FranHenshall1: Space bound 🚀...love this find from @redbubble.. #space #photooftheday #naturalhair https://t.co/XxPYiYVpIu', 'mined_at': datetime.datetime(2017, 7, 7, 19, 6, 33, 284246), 'created_at': 'Wed Jun 28 17:31:45 +0000 2017'}, {'tweet_id': 880093436799569920, 'handle': 'Redbubble', 'retweet_count': 11, 'text': 'Sweet &amp; sweeter sticker bundles. 😋 Get 4, save 25%. Get 10, save 50%. Get shopping here » https://t.co/N4tgFSUnjM https://t.co/BSm8H0zWeQ', 'mined_at': datetime.datetime(2017, 7, 7, 19, 6, 33, 284255), 'created_at': 'Wed Jun 28 16:00:01 +0000 2017'}, {'tweet_id': 879842301878558724, 'handle': 'Redbubble', 'retweet_count': 1, 'text': \"RT @fictionfare: I went a little crazy with my @Redbubble article order but I couldn't pass up the deal ... or… https://t.co/gvGudLV5Lp\", 'mined_at': datetime.datetime(2017, 7, 7, 19, 6, 33, 654914), 'created_at': 'Tue Jun 27 23:22:06 +0000 2017'}, {'tweet_id': 879836745193410561, 'handle': 'Redbubble', 'retweet_count': 1, 'text': \"Bacon will never unfriend you. Bacon's got your back. https://t.co/60TdrlC48V 👍  Art by @kimvervuurt https://t.co/l6xKGHCL3C\", 'mined_at': datetime.datetime(2017, 7, 7, 19, 6, 33, 654932), 'created_at': 'Tue Jun 27 23:00:01 +0000 2017'}, {'tweet_id': 879810745172598786, 'handle': 'Redbubble', 'retweet_count': 1, 'text': 'RT @gazpatxi: You guys are getting better at packaging 🙆🙌🎉 @redbubble (banana 🍌 not included - there was too much empty space there 😂) http…', 'mined_at': datetime.datetime(2017, 7, 7, 19, 6, 33, 975565), 'created_at': 'Tue Jun 27 21:16:42 +0000 2017'}, {'tweet_id': 879791448547352577, 'handle': 'Redbubble', 'retweet_count': 19, 'text': 'The words of this #TypographyTuesday will ring true for many #freelancers » https://t.co/2NvIJBWxzg 🙌 https://t.co/fWPpFQkLlh', 'mined_at': datetime.datetime(2017, 7, 7, 19, 6, 33, 975574), 'created_at': 'Tue Jun 27 20:00:01 +0000 2017'}, {'tweet_id': 879731079334309890, 'handle': 'Redbubble', 'retweet_count': 0, 'text': 'Putting on a pair of brand new Redbubble leggings be like. 👍 #RedbubbleReaction https://t.co/zYRt1sXdFA', 'mined_at': datetime.datetime(2017, 7, 7, 19, 6, 34, 291935), 'created_at': 'Tue Jun 27 16:00:08 +0000 2017'}, {'tweet_id': 879459292423868417, 'handle': 'Redbubble', 'retweet_count': 2, 'text': 'Finding that perfect mashup on Redbubble of two of your favorite things be like. 😜 #RedbubbleFeels https://t.co/5xxfsxHbub', 'mined_at': datetime.datetime(2017, 7, 7, 19, 6, 34, 291943), 'created_at': 'Mon Jun 26 22:00:09 +0000 2017'}, {'tweet_id': 879412484351729665, 'handle': 'Redbubble', 'retweet_count': 4, 'text': 'RT @RozSmith7: The guys over @redbubble have such awesome 👏 sense of humour 🤣 https://t.co/7Lgx70JDnq', 'mined_at': datetime.datetime(2017, 7, 7, 19, 6, 34, 610617), 'created_at': 'Mon Jun 26 18:54:09 +0000 2017'}, {'tweet_id': 879398859486756865, 'handle': 'Redbubble', 'retweet_count': 7, 'text': 'We like being weird. #MondayMantra » https://t.co/iN7yBQItLr 🖖 https://t.co/9g1EUWrlQX', 'mined_at': datetime.datetime(2017, 7, 7, 19, 6, 34, 610626), 'created_at': 'Mon Jun 26 18:00:01 +0000 2017'}, {'tweet_id': 879368662829936642, 'handle': 'Redbubble', 'retweet_count': 5, 'text': 'Take a chill pill and find rad stuff. 😎  Use code RAD20 by June 26 at 11:59pm PT. » https://t.co/277OEQpQKn… https://t.co/F0hOM10oei', 'mined_at': datetime.datetime(2017, 7, 7, 19, 6, 34, 939606), 'created_at': 'Mon Jun 26 16:00:01 +0000 2017'}, {'tweet_id': 879111969978142720, 'handle': 'Redbubble', 'retweet_count': 0, 'text': \"Can't decide what we ❤️ more—@ClaraBabyLegs's electric hair, or LordofMasks' pencil skirts » https://t.co/n940uzUfmc https://t.co/ya7Y9RbI75\", 'mined_at': datetime.datetime(2017, 7, 7, 19, 6, 34, 939638), 'created_at': 'Sun Jun 25 23:00:01 +0000 2017'}, {'tweet_id': 879066695851274240, 'handle': 'Redbubble', 'retweet_count': 5, 'text': 'When you find artwork on Redbubble that you need in your life right now. #ineedthis #RedbubbleFeels https://t.co/Ck3MsFmLzX', 'mined_at': datetime.datetime(2017, 7, 7, 19, 6, 35, 274107), 'created_at': 'Sun Jun 25 20:00:07 +0000 2017'}, {'tweet_id': 879021372785164289, 'handle': 'Redbubble', 'retweet_count': 5, 'text': \"Those who say long-distance can't work are seriously sea-nical »  https://t.co/J1ERzQcwx1 https://t.co/bsVtoyuEfh\", 'mined_at': datetime.datetime(2017, 7, 7, 19, 6, 35, 274125), 'created_at': 'Sun Jun 25 17:00:01 +0000 2017'}, {'tweet_id': 878719411003240448, 'handle': 'Redbubble', 'retweet_count': 4, 'text': 'Mom: Who used my credit card and spent $100 on Redbubble?!\\n\\nYou: https://t.co/0ggNjkiFzx', 'mined_at': datetime.datetime(2017, 7, 7, 19, 6, 35, 666548), 'created_at': 'Sat Jun 24 21:00:08 +0000 2017'}, {'tweet_id': 878689184084631552, 'handle': 'Redbubble', 'retweet_count': 15, 'text': \"Whoa! Have you seen this X-Ray of a #catlady's lungs?? art via @nelehasia https://t.co/Fz1lYeLv49 https://t.co/AsuEKyyJGd\", 'mined_at': datetime.datetime(2017, 7, 7, 19, 6, 35, 666556), 'created_at': 'Sat Jun 24 19:00:01 +0000 2017'}, {'tweet_id': 878658983598358528, 'handle': 'Redbubble', 'retweet_count': 3, 'text': 'Spending Saturday morning in detention with the #breakfastclub https://t.co/cmZu1NExcG @JacoHaasbroek https://t.co/eBLCw2Zqgs', 'mined_at': datetime.datetime(2017, 7, 7, 19, 6, 35, 988253), 'created_at': 'Sat Jun 24 17:00:01 +0000 2017'}, {'tweet_id': 878372094446260227, 'handle': 'Redbubble', 'retweet_count': 2, 'text': \"#HarryPotter doesn't often use pencils, but when he does, they look like this » https://t.co/TwpYEAZiN0 ✏️⚡️ https://t.co/vt0k1fmy6O\", 'mined_at': datetime.datetime(2017, 7, 7, 19, 6, 35, 988266), 'created_at': 'Fri Jun 23 22:00:01 +0000 2017'}, {'tweet_id': 878326798915739651, 'handle': 'Redbubble', 'retweet_count': 4, 'text': \"Note-taking: you've been doing it wrong. »  https://t.co/katdwqYT7h ✍️ https://t.co/l5cmeoBGGu\", 'mined_at': datetime.datetime(2017, 7, 7, 19, 6, 36, 305310), 'created_at': 'Fri Jun 23 19:00:02 +0000 2017'}, {'tweet_id': 878310758911680512, 'handle': 'Redbubble', 'retweet_count': 5, 'text': 'Stand together. #WM_Global » https://t.co/KnS1BsmMm9 #Pride2017 https://t.co/bfiOVIwCmJ', 'mined_at': datetime.datetime(2017, 7, 7, 19, 6, 36, 305324), 'created_at': 'Fri Jun 23 17:56:17 +0000 2017'}, {'tweet_id': 878281524474507264, 'handle': 'Redbubble', 'retweet_count': 3, 'text': 'Collaborating with other artists and creating one ultimate artwork be like. ⚡️ https://t.co/gCRepnstP6', 'mined_at': datetime.datetime(2017, 7, 7, 19, 6, 36, 633843), 'created_at': 'Fri Jun 23 16:00:07 +0000 2017'}, {'tweet_id': 878013644428034049, 'handle': 'Redbubble', 'retweet_count': 1, 'text': \"RT @redbubblelife: It's awesome to see Redbubble mentioned as an eCommerce brands that rocks social media. #yay https://t.co/Off0Lf9OR1\", 'mined_at': datetime.datetime(2017, 7, 7, 19, 6, 36, 633854), 'created_at': 'Thu Jun 22 22:15:40 +0000 2017'}, {'tweet_id': 878009708820348928, 'handle': 'Redbubble', 'retweet_count': 0, 'text': 'Shirt what this about and stuff?! 🍕 🍼 🎷 🎯  &gt;&gt; https://t.co/CVxH1i0nIh https://t.co/iXuxWGxiYq', 'mined_at': datetime.datetime(2017, 7, 7, 19, 6, 36, 968065), 'created_at': 'Thu Jun 22 22:00:01 +0000 2017'}, {'tweet_id': 877964434576216067, 'handle': 'Redbubble', 'retweet_count': 4, 'text': 'Lunch time at the Redbubble office be like. 🍕 #gimmedatpizza #RedbubbleCulture https://t.co/NCOKyKiWO0', 'mined_at': datetime.datetime(2017, 7, 7, 19, 6, 36, 968075), 'created_at': 'Thu Jun 22 19:00:07 +0000 2017'}, {'tweet_id': 877953892582957056, 'handle': 'Redbubble', 'retweet_count': 2, 'text': 'RT @AnimasLunae: Look at these💕😍💕 my pillowcases have just arrived. Designed &amp; drawn by bianca loran @redbubble! I love it &amp; they have a hi…', 'mined_at': datetime.datetime(2017, 7, 7, 19, 6, 37, 287639), 'created_at': 'Thu Jun 22 18:18:14 +0000 2017'}, {'tweet_id': 877919110222323713, 'handle': 'Redbubble', 'retweet_count': 12, 'text': \"Save 30% on a bunch of Men's and Women's styles. 😼 Use code THIRTYOFF by June 22 at 11:59pm PT »… https://t.co/mZHuatNRHw\", 'mined_at': datetime.datetime(2017, 7, 7, 19, 6, 37, 287647), 'created_at': 'Thu Jun 22 16:00:01 +0000 2017'}, {'tweet_id': 877647318442532864, 'handle': 'Redbubble', 'retweet_count': 5, 'text': '\"I did NOT walk on that poop.\" @SophieMCorrigan » https://t.co/7hRYkGPMPg 💩 https://t.co/ioaZRuMw0O', 'mined_at': datetime.datetime(2017, 7, 7, 19, 6, 37, 872402), 'created_at': 'Wed Jun 21 22:00:01 +0000 2017'}, {'tweet_id': 877589445343563776, 'handle': 'Redbubble', 'retweet_count': 1, 'text': \"RT @kahahaaaren: Diggin' the new case I bought for my new phone. @redbubble u da best https://t.co/7WHQZVqoZ2\", 'mined_at': datetime.datetime(2017, 7, 7, 19, 6, 37, 872412), 'created_at': 'Wed Jun 21 18:10:03 +0000 2017'}, {'tweet_id': 877587739683676160, 'handle': 'Redbubble', 'retweet_count': 1, 'text': 'RT @RyKas: Yay a @redbubble parcel is awaiting my return home!!!! https://t.co/fnqiW3MK7Z', 'mined_at': datetime.datetime(2017, 7, 7, 19, 6, 38, 219306), 'created_at': 'Wed Jun 21 18:03:16 +0000 2017'}, {'tweet_id': 877586921538572288, 'handle': 'Redbubble', 'retweet_count': 0, 'text': 'Because the most important accessory is facial hair... #beards #lumbersexual https://t.co/Wb9gzgxZOq 😎 https://t.co/LAcwoRU2YP', 'mined_at': datetime.datetime(2017, 7, 7, 19, 6, 38, 219320), 'created_at': 'Wed Jun 21 18:00:01 +0000 2017'}, {'tweet_id': 877556744108384256, 'handle': 'Redbubble', 'retweet_count': 1, 'text': 'Putting on a brand new Redbubble lightweight hoodie be like. 🎉😽 #RedbubbleReaction https://t.co/FBzgk0i4Wl', 'mined_at': datetime.datetime(2017, 7, 7, 19, 6, 38, 550725), 'created_at': 'Wed Jun 21 16:00:06 +0000 2017'}, {'tweet_id': 877300031103139841, 'handle': 'Redbubble', 'retweet_count': 3, 'text': 'If you could only bring 3 items with you on a trip, what would you bring? #TravelTuesday RB Drawstring Bag and Stud… https://t.co/H1CkP0yY5I', 'mined_at': datetime.datetime(2017, 7, 7, 19, 6, 38, 550737), 'created_at': 'Tue Jun 20 23:00:01 +0000 2017'}, {'tweet_id': 877294734233837568, 'handle': 'Redbubble', 'retweet_count': 1, 'text': 'RT @adamwaterwall: Nice piece of cloth @redbubble  thank you for covering my body https://t.co/vWUr43Zw17', 'mined_at': datetime.datetime(2017, 7, 7, 19, 6, 38, 888702), 'created_at': 'Tue Jun 20 22:38:58 +0000 2017'}, {'tweet_id': 877254731986608129, 'handle': 'Redbubble', 'retweet_count': 27, 'text': 'Space turtles in flight, afternoon delight 🚀🐢 » https://t.co/smeN18NHpH https://t.co/GC0jxBGwDR', 'mined_at': datetime.datetime(2017, 7, 7, 19, 6, 38, 888711), 'created_at': 'Tue Jun 20 20:00:01 +0000 2017'}, {'tweet_id': 877229385371090945, 'handle': 'Redbubble', 'retweet_count': 1, 'text': 'RT @whosnameisthis: Thanks @redbubble for the killer tee 👕 designed by @bird_kings ! Wish every shirt was this soft and well-fit. https://t…', 'mined_at': datetime.datetime(2017, 7, 7, 19, 6, 39, 215074), 'created_at': 'Tue Jun 20 18:19:18 +0000 2017'}, {'tweet_id': 877194356276572161, 'handle': 'Redbubble', 'retweet_count': 2, 'text': 'Getting Redbubble leggings for working out be like 💪  #RedbubbleFeels https://t.co/028RpFMD1I', 'mined_at': datetime.datetime(2017, 7, 7, 19, 6, 39, 215085), 'created_at': 'Tue Jun 20 16:00:06 +0000 2017'}, {'tweet_id': 876922569290657796, 'handle': 'Redbubble', 'retweet_count': 1, 'text': 'When you gift your grandparents goodies from Redbubble. 👑  #RedbubbleReaction https://t.co/g73pUwmCSd', 'mined_at': datetime.datetime(2017, 7, 7, 19, 6, 39, 554337), 'created_at': 'Mon Jun 19 22:00:07 +0000 2017'}, {'tweet_id': 876862146369474560, 'handle': 'Redbubble', 'retweet_count': 17, 'text': 'Do what you can do, get started today. Some #MondayMotivation... with @worldschoolkids https://t.co/tAurWggDz3  🌎📕 https://t.co/0JlYAABOgn', 'mined_at': datetime.datetime(2017, 7, 7, 19, 6, 39, 554350), 'created_at': 'Mon Jun 19 18:00:01 +0000 2017'}, {'tweet_id': 876831945887535110, 'handle': 'Redbubble', 'retweet_count': 6, 'text': 'Savings with a capital T. 🐯 Use SAVETHAT20 by June 19 at 11:59pm PT » https://t.co/kzYU4zX3Kn  #SitewideSale https://t.co/1Ul8lpoY25', 'mined_at': datetime.datetime(2017, 7, 7, 19, 6, 39, 873217), 'created_at': 'Mon Jun 19 16:00:01 +0000 2017'}, {'tweet_id': 876575282328739840, 'handle': 'Redbubble', 'retweet_count': 7, 'text': '#Puglife is pretty much synonymous with #thuglife these days »  https://t.co/TKsVY5OfsA 🐾 https://t.co/3bZGt3olJo', 'mined_at': datetime.datetime(2017, 7, 7, 19, 6, 39, 873230), 'created_at': 'Sun Jun 18 23:00:07 +0000 2017'}, {'tweet_id': 876545080345186306, 'handle': 'Redbubble', 'retweet_count': 4, 'text': 'When you accidentally add the incorrect item to your Redbubble shopping cart 😅  #RedbubbleReaction https://t.co/9ac7GDjs0O', 'mined_at': datetime.datetime(2017, 7, 7, 19, 6, 40, 195642), 'created_at': 'Sun Jun 18 21:00:07 +0000 2017'}, {'tweet_id': 876514857704673283, 'handle': 'Redbubble', 'retweet_count': 4, 'text': 'Cat got your soul? #CultProblems https://t.co/raVVGW4rCp  😽💀 https://t.co/wERZsdZdfP', 'mined_at': datetime.datetime(2017, 7, 7, 19, 6, 40, 195651), 'created_at': 'Sun Jun 18 19:00:01 +0000 2017'}, {'tweet_id': 876484664151744512, 'handle': 'Redbubble', 'retweet_count': 2, 'text': 'Happy #FathersDay! This one goes out to all the dads out there! ❤️💚💜💙💛\\n\\n💪Art by @andbloom » https://t.co/y47bQ5j3Aj https://t.co/7xUSbuFyc5', 'mined_at': datetime.datetime(2017, 7, 7, 19, 6, 40, 527092), 'created_at': 'Sun Jun 18 17:00:02 +0000 2017'}, {'tweet_id': 876212867934146561, 'handle': 'Redbubble', 'retweet_count': 3, 'text': 'Spit it out, Fluffy... »  https://t.co/u8i5Mmsodg 😻 #Caturday https://t.co/PSh6XLcV4g', 'mined_at': datetime.datetime(2017, 7, 7, 19, 6, 40, 527102), 'created_at': 'Sat Jun 17 23:00:01 +0000 2017'}, {'tweet_id': 876167595078168576, 'handle': 'Redbubble', 'retweet_count': 6, 'text': \"The look on people's face when you tell them about Redbubble 👌    #RedbubbleReaction https://t.co/0i1w2I8HkW\", 'mined_at': datetime.datetime(2017, 7, 7, 19, 6, 40, 861980), 'created_at': 'Sat Jun 17 20:00:07 +0000 2017'}, {'tweet_id': 876122272758726656, 'handle': 'Redbubble', 'retweet_count': 8, 'text': 'FACT: Putting space unicorns on your phone will increase cell reception https://t.co/CofYhelaGZ ✨ https://t.co/5DkNZOLs3G', 'mined_at': datetime.datetime(2017, 7, 7, 19, 6, 40, 861988), 'created_at': 'Sat Jun 17 17:00:02 +0000 2017'}, {'tweet_id': 875835378732814340, 'handle': 'Redbubble', 'retweet_count': 11, 'text': 'The important questions in life demand to be asked. https://t.co/0B9YvldhqC', 'mined_at': datetime.datetime(2017, 7, 7, 19, 6, 41, 333955), 'created_at': 'Fri Jun 16 22:00:01 +0000 2017'}, {'tweet_id': 875744809180442624, 'handle': 'Redbubble', 'retweet_count': 2, 'text': 'When Redbubble announces a sale! Tears of happiness of course 😂 #RedbubbleReaction https://t.co/iNJlzGVZGP', 'mined_at': datetime.datetime(2017, 7, 7, 19, 6, 41, 333963), 'created_at': 'Fri Jun 16 16:00:07 +0000 2017'}, {'tweet_id': 875472991341215744, 'handle': 'Redbubble', 'retweet_count': 1, 'text': '👧💪📱He asks for her phone number, then sees her phone case... https://t.co/A0UwbCLll1  #feminist https://t.co/GhfrVYAcN3', 'mined_at': datetime.datetime(2017, 7, 7, 19, 6, 41, 643242), 'created_at': 'Thu Jun 15 22:00:01 +0000 2017'}, {'tweet_id': 875427694770520065, 'handle': 'Redbubble', 'retweet_count': 9, 'text': '\"No matter in what direction you move as an artist, it’s important to keep going.\" » https://t.co/F5aFQYJwJ0 https://t.co/qIfsFDB6pu', 'mined_at': datetime.datetime(2017, 7, 7, 19, 6, 41, 643251), 'created_at': 'Thu Jun 15 19:00:01 +0000 2017'}, {'tweet_id': 875382394383151105, 'handle': 'Redbubble', 'retweet_count': 8, 'text': 'Save on Pillows, Posters, Acrylic Blocks, and more. 🙌 Use code HOMESWEET30 by June 15 at 11:59pm PT »… https://t.co/4KPoyAhut8', 'mined_at': datetime.datetime(2017, 7, 7, 19, 6, 41, 953106), 'created_at': 'Thu Jun 15 16:00:01 +0000 2017'}, {'tweet_id': 875110749734969347, 'handle': 'Redbubble', 'retweet_count': 0, 'text': '@Kylahallison  https://t.co/WRVK2Dgnr2', 'mined_at': datetime.datetime(2017, 7, 7, 19, 6, 41, 953114), 'created_at': 'Wed Jun 14 22:00:36 +0000 2017'}, {'tweet_id': 875110604104765441, 'handle': 'Redbubble', 'retweet_count': 4, 'text': \"For when you can't decide whether #friesarelife or #pugsarelife @SophieMCorrigan » https://t.co/rKHVKc4NrP https://t.co/4WKTEyVvjK\", 'mined_at': datetime.datetime(2017, 7, 7, 19, 6, 42, 260461), 'created_at': 'Wed Jun 14 22:00:01 +0000 2017'}, {'tweet_id': 875050205175042048, 'handle': 'Redbubble', 'retweet_count': 3, 'text': 'Rough sketches turning into #type masterpieces this #WIPwednesday! Finished piece » https://t.co/Q3QsKI0QGC https://t.co/uog5N1J0Wd', 'mined_at': datetime.datetime(2017, 7, 7, 19, 6, 42, 260468), 'created_at': 'Wed Jun 14 18:00:01 +0000 2017'}, {'tweet_id': 875029223676628992, 'handle': 'Redbubble', 'retweet_count': 3, 'text': 'RT @Markonius72: @redbubble Me when I unwrapped my phone case!#RedbubbleReaction https://t.co/4hEaNs7kJB', 'mined_at': datetime.datetime(2017, 7, 7, 19, 6, 42, 571639), 'created_at': 'Wed Jun 14 16:36:38 +0000 2017'}, {'tweet_id': 875020029745664000, 'handle': 'Redbubble', 'retweet_count': 4, 'text': 'Seeing tweets at Redbubble theses days be like. 😋 https://t.co/p65V1VfcZ1', 'mined_at': datetime.datetime(2017, 7, 7, 19, 6, 42, 571646), 'created_at': 'Wed Jun 14 16:00:06 +0000 2017'}, {'tweet_id': 874763317180604416, 'handle': 'Redbubble', 'retweet_count': 7, 'text': '#TravelTuesday 🍔 ❤️ ✈️  #RedbubbleArt by @catcoq &gt;&gt; https://t.co/QWmNLebaUB https://t.co/Q0ibzCQdkq', 'mined_at': datetime.datetime(2017, 7, 7, 19, 6, 42, 906796), 'created_at': 'Tue Jun 13 23:00:01 +0000 2017'}, {'tweet_id': 874722352616976385, 'handle': 'Redbubble', 'retweet_count': 1, 'text': 'RT @svgenderen12: Got my @redbubble order one day before estimated delivery date. Great service!', 'mined_at': datetime.datetime(2017, 7, 7, 19, 6, 42, 906806), 'created_at': 'Tue Jun 13 20:17:15 +0000 2017'}, {'tweet_id': 874718016281464833, 'handle': 'Redbubble', 'retweet_count': 4, 'text': 'If you turn this in as your physics homework, you will probably get an A+. https://t.co/NLk5hgwEpK https://t.co/9ZqAC4WGtl', 'mined_at': datetime.datetime(2017, 7, 7, 19, 6, 43, 224392), 'created_at': 'Tue Jun 13 20:00:01 +0000 2017'}, {'tweet_id': 874657644287590401, 'handle': 'Redbubble', 'retweet_count': 0, 'text': 'That moment when you find the perfect artwork on a phone case at Redbubble. 😱 #ineedthisinmylife #RedbubbleReaction https://t.co/3GuOdy05ik', 'mined_at': datetime.datetime(2017, 7, 7, 19, 6, 43, 224400), 'created_at': 'Tue Jun 13 16:00:07 +0000 2017'}, {'tweet_id': 874386335674515456, 'handle': 'Redbubble', 'retweet_count': 3, 'text': 'RT @rustedLuke: @redbubble are great. https://t.co/RQ9AwAjqtH', 'mined_at': datetime.datetime(2017, 7, 7, 19, 6, 43, 547553), 'created_at': 'Mon Jun 12 22:02:02 +0000 2017'}, {'tweet_id': 874385853136687104, 'handle': 'Redbubble', 'retweet_count': 4, 'text': \"When you get a text from your roommate saying there's a package from Redbubble waiting for you at home. 🎉 https://t.co/y6ye20D1vb\", 'mined_at': datetime.datetime(2017, 7, 7, 19, 6, 43, 547562), 'created_at': 'Mon Jun 12 22:00:07 +0000 2017'}, {'tweet_id': 874340561112649728, 'handle': 'Redbubble', 'retweet_count': 11, 'text': \"20% off sitewide. Let's make a mess. 🖌  Use code GETCREATIVE by June 12 at 11:59pm PT » https://t.co/PRm9UO3Q7V… https://t.co/YcnTaVAvJW\", 'mined_at': datetime.datetime(2017, 7, 7, 19, 6, 43, 875900), 'created_at': 'Mon Jun 12 19:00:08 +0000 2017'}, {'tweet_id': 874339610280603649, 'handle': 'Redbubble', 'retweet_count': 1, 'text': 'RT @TheWildRenHawk: My @redbubble order arrived today 💜💜 https://t.co/RBjxelFbSM', 'mined_at': datetime.datetime(2017, 7, 7, 19, 6, 43, 875910), 'created_at': 'Mon Jun 12 18:56:22 +0000 2017'}, {'tweet_id': 874331395589423105, 'handle': 'Redbubble', 'retweet_count': 1, 'text': 'RT @RealCaustic: woohoo!  New shirts out for delivery!  I love @redbubble', 'mined_at': datetime.datetime(2017, 7, 7, 19, 6, 44, 342460), 'created_at': 'Mon Jun 12 18:23:43 +0000 2017'}, {'tweet_id': 874327619587645442, 'handle': 'Redbubble', 'retweet_count': 1, 'text': 'RT @SaraLutra: My @redbubble Shirts arrived!!! And now I must make the horrible decision... Which one should I wear first?', 'mined_at': datetime.datetime(2017, 7, 7, 19, 6, 44, 342468), 'created_at': 'Mon Jun 12 18:08:43 +0000 2017'}, {'tweet_id': 874293821214818304, 'handle': 'Redbubble', 'retweet_count': 3, 'text': \"RT @RedbubbleHelp: Having trouble using the current @Redbubble discount? Here's our Coupon code article! --&gt; https://t.co/epZ2Q5dkro https:…\", 'mined_at': datetime.datetime(2017, 7, 7, 19, 6, 44, 695536), 'created_at': 'Mon Jun 12 15:54:25 +0000 2017'}, {'tweet_id': 874038539192872960, 'handle': 'Redbubble', 'retweet_count': 2, 'text': 'Less talk, more meow. #RBstickers  https://t.co/lguRAMyJ5d 😽 https://t.co/1W6WjBqRWj', 'mined_at': datetime.datetime(2017, 7, 7, 19, 6, 44, 695544), 'created_at': 'Sun Jun 11 23:00:01 +0000 2017'}, {'tweet_id': 873993275904020480, 'handle': 'Redbubble', 'retweet_count': 6, 'text': 'That moment when you find the perfect artwork on a phone case at Redbubble. 😱 #ineedthisinmylife #RedbubbleReaction https://t.co/8laQq6b3mr', 'mined_at': datetime.datetime(2017, 7, 7, 19, 6, 45, 30197), 'created_at': 'Sun Jun 11 20:00:09 +0000 2017'}, {'tweet_id': 873947943291768833, 'handle': 'Redbubble', 'retweet_count': 4, 'text': 'Most paleontologists overlook the Pizzassic Period b/c the resulting fossils made them hungry.… https://t.co/7X2nbEt0DQ', 'mined_at': datetime.datetime(2017, 7, 7, 19, 6, 45, 30205), 'created_at': 'Sun Jun 11 17:00:01 +0000 2017'}, {'tweet_id': 873676152019275777, 'handle': 'Redbubble', 'retweet_count': 4, 'text': \"Cats at war! But aren't cats always at war? #Caturday 😽  » https://t.co/7K6mKRTJyV https://t.co/pt6zLcHqz0\", 'mined_at': datetime.datetime(2017, 7, 7, 19, 6, 45, 399204), 'created_at': 'Sat Jun 10 23:00:01 +0000 2017'}, {'tweet_id': 873630876437020673, 'handle': 'Redbubble', 'retweet_count': 2, 'text': 'Buying multiples of the same RB sticker be like 👯👯  #RedbbubbleFeels https://t.co/ad54dNSMuH', 'mined_at': datetime.datetime(2017, 7, 7, 19, 6, 45, 399214), 'created_at': 'Sat Jun 10 20:00:06 +0000 2017'}, {'tweet_id': 873585555631636480, 'handle': 'Redbubble', 'retweet_count': 2, 'text': \"It's the amazing @AmyRoiland looking golden in @ZekeTucker's art on a Redbubble #PencilSkirt 🙌 https://t.co/EnNu833wq5\", 'mined_at': datetime.datetime(2017, 7, 7, 19, 6, 45, 719813), 'created_at': 'Sat Jun 10 17:00:01 +0000 2017'}, {'tweet_id': 873298666005704706, 'handle': 'Redbubble', 'retweet_count': 1, 'text': 'Wishing this tropical scarf were a magic carpet, so we could fly off into paradise... https://t.co/a6RjXE7TLp https://t.co/mK7L3xs1kT', 'mined_at': datetime.datetime(2017, 7, 7, 19, 6, 45, 719821), 'created_at': 'Fri Jun 09 22:00:01 +0000 2017'}, {'tweet_id': 873283315783958528, 'handle': 'Redbubble', 'retweet_count': 1, 'text': 'RT @Thalmidor: Made my room more cozy. 💕 @redbubble https://t.co/J8mGslnOvC', 'mined_at': datetime.datetime(2017, 7, 7, 19, 6, 46, 29114), 'created_at': 'Fri Jun 09 20:59:01 +0000 2017'}, {'tweet_id': 873281518017200128, 'handle': 'Redbubble', 'retweet_count': 1, 'text': 'RT @der_lusten: @redbubble \\ni love you guys!! my hieronim bosch tote-bag is here, and is fantastic\\nthanks for excellent service', 'mined_at': datetime.datetime(2017, 7, 7, 19, 6, 46, 29122), 'created_at': 'Fri Jun 09 20:51:53 +0000 2017'}, {'tweet_id': 873256815290494976, 'handle': 'Redbubble', 'retweet_count': 0, 'text': '@emlozanog  https://t.co/yrSUL6KknB', 'mined_at': datetime.datetime(2017, 7, 7, 19, 6, 46, 365134), 'created_at': 'Fri Jun 09 19:13:43 +0000 2017'}, {'tweet_id': 873255711819485184, 'handle': 'Redbubble', 'retweet_count': 0, 'text': '@brittanybankson  https://t.co/P0wJtaJvpO', 'mined_at': datetime.datetime(2017, 7, 7, 19, 6, 46, 365148), 'created_at': 'Fri Jun 09 19:09:20 +0000 2017'}, {'tweet_id': 873255400107159552, 'handle': 'Redbubble', 'retweet_count': 1, 'text': 'RT @MatthewJWalters: Just received some prints from @redbubble ready for #printexchange #believeinfilm https://t.co/OS1TOCyUcM', 'mined_at': datetime.datetime(2017, 7, 7, 19, 6, 47, 699297), 'created_at': 'Fri Jun 09 19:08:06 +0000 2017'}, {'tweet_id': 873255216841457664, 'handle': 'Redbubble', 'retweet_count': 2, 'text': 'RT @prendoriancrab: My stickers came in from @redbubble and they are BEAUTIFUL! Buttons and Cinnamon are ready to stick to something! https…', 'mined_at': datetime.datetime(2017, 7, 7, 19, 6, 47, 699309), 'created_at': 'Fri Jun 09 19:07:22 +0000 2017'}, {'tweet_id': 873254863278178306, 'handle': 'Redbubble', 'retweet_count': 1, 'text': \"RT @psychodwarf: My Ethel the Cow chiffon top came. She's lovely 💖\\n@redbubble #design #tee \\nhttps://t.co/HaYaiLFuZF https://t.co/5ZxGSCeLB2\", 'mined_at': datetime.datetime(2017, 7, 7, 19, 6, 48, 14723), 'created_at': 'Fri Jun 09 19:05:58 +0000 2017'}, {'tweet_id': 873254694008705025, 'handle': 'Redbubble', 'retweet_count': 3, 'text': 'RT @MelisLov: @redbubble p.s. one time I said I wouldn\\'t \"clutter\" my new computer with stickers bc I\\'m an adult. that didn\\'t last long...', 'mined_at': datetime.datetime(2017, 7, 7, 19, 6, 48, 14732), 'created_at': 'Fri Jun 09 19:05:17 +0000 2017'}, {'tweet_id': 873208092858646528, 'handle': 'Redbubble', 'retweet_count': 0, 'text': \"TFW you're having trouble logging into your RB account. 😩Troubleshooting this way &gt;&gt; https://t.co/EbZY3cv5zM https://t.co/3KzLgTYxAO\", 'mined_at': datetime.datetime(2017, 7, 7, 19, 6, 48, 579121), 'created_at': 'Fri Jun 09 16:00:07 +0000 2017'}, {'tweet_id': 872907518862737409, 'handle': 'Redbubble', 'retweet_count': 0, 'text': '@mhirsch613  https://t.co/g1t88x0TAR', 'mined_at': datetime.datetime(2017, 7, 7, 19, 6, 48, 579129), 'created_at': 'Thu Jun 08 20:05:44 +0000 2017'}, {'tweet_id': 872906079172251648, 'handle': 'Redbubble', 'retweet_count': 0, 'text': 'You can now put everything from your \"Special Lucky Toy Box\" into your special lucky pouch!… https://t.co/FfQ0NjpPPW', 'mined_at': datetime.datetime(2017, 7, 7, 19, 6, 48, 915099), 'created_at': 'Thu Jun 08 20:00:01 +0000 2017'}, {'tweet_id': 872905937350033408, 'handle': 'Redbubble', 'retweet_count': 0, 'text': '@AdamWebb1994  https://t.co/RL4am9Q2Sq', 'mined_at': datetime.datetime(2017, 7, 7, 19, 6, 48, 915107), 'created_at': 'Thu Jun 08 19:59:27 +0000 2017'}, {'tweet_id': 872891602473164800, 'handle': 'Redbubble', 'retweet_count': 1, 'text': 'RT @forbesantiago: @redbubble really love the new \"you\\'ve made a sale\" emails!!😍 https://t.co/fVmhyT1kdL', 'mined_at': datetime.datetime(2017, 7, 7, 19, 6, 49, 225667), 'created_at': 'Thu Jun 08 19:02:30 +0000 2017'}, {'tweet_id': 872860803212378113, 'handle': 'Redbubble', 'retweet_count': 0, 'text': 'How it feels when you see your artwork featured on the RB homepage 👑  #RedbubbleFeels https://t.co/V42xRhtnxj', 'mined_at': datetime.datetime(2017, 7, 7, 19, 6, 49, 225677), 'created_at': 'Thu Jun 08 17:00:07 +0000 2017'}, {'tweet_id': 872830581150822400, 'handle': 'Redbubble', 'retweet_count': 10, 'text': 'Hey Mr. Nosy, get 30% off iPhone Cases, Samsung Cases, &amp; iPhone Wallets with CASE30 » https://t.co/KlncENXJns Expir… https://t.co/hXbebJ6rDA', 'mined_at': datetime.datetime(2017, 7, 7, 19, 6, 49, 627176), 'created_at': 'Thu Jun 08 15:00:01 +0000 2017'}, {'tweet_id': 872573889112674306, 'handle': 'Redbubble', 'retweet_count': 4, 'text': '#WednesdayWisdom 😛 #RedbubbleArt by @dinomikedesign &gt;&gt; https://t.co/IbEl9b7OKo https://t.co/4JpzvDYsmC', 'mined_at': datetime.datetime(2017, 7, 7, 19, 6, 49, 627185), 'created_at': 'Wed Jun 07 22:00:01 +0000 2017'}, {'tweet_id': 872571444974067714, 'handle': 'Redbubble', 'retweet_count': 2, 'text': 'RT @geekyhybrid: Thanks, @redbubble !  #introvertmerch #introvert https://t.co/HqJnoZhEpa', 'mined_at': datetime.datetime(2017, 7, 7, 19, 6, 49, 942516), 'created_at': 'Wed Jun 07 21:50:18 +0000 2017'}, {'tweet_id': 872515661905264641, 'handle': 'Redbubble', 'retweet_count': 2, 'text': 'RT @slawson68: @redbubble is awesome!! I needed to exchange shirts. They were on it quickly and very friendly service. I love their tshirts!', 'mined_at': datetime.datetime(2017, 7, 7, 19, 6, 49, 942524), 'created_at': 'Wed Jun 07 18:08:39 +0000 2017'}, {'tweet_id': 872513490212278272, 'handle': 'Redbubble', 'retweet_count': 1, 'text': 'Could this be our cutest #WIPWednesday yet? You tell us. See it finished » https://t.co/39J0R0jaVV https://t.co/UOnmIXZTP9', 'mined_at': datetime.datetime(2017, 7, 7, 19, 6, 50, 254343), 'created_at': 'Wed Jun 07 18:00:01 +0000 2017'}, {'tweet_id': 872503512327901184, 'handle': 'Redbubble', 'retweet_count': 1, 'text': 'RT @Jawbreak: @redbubble I get way too excited whenever I see one of these in my mail. https://t.co/Ilqg9Lnx4h', 'mined_at': datetime.datetime(2017, 7, 7, 19, 6, 50, 254351), 'created_at': 'Wed Jun 07 17:20:22 +0000 2017'}, {'tweet_id': 872502486564655104, 'handle': 'Redbubble', 'retweet_count': 3, 'text': 'RT @JLGoodenough: Just received a notebook from my own @redbubble collection! #lovestationery #journaling #learningtodraw #redbubble… https…', 'mined_at': datetime.datetime(2017, 7, 7, 19, 6, 50, 571868), 'created_at': 'Wed Jun 07 17:16:17 +0000 2017'}, {'tweet_id': 872502415529869312, 'handle': 'Redbubble', 'retweet_count': 1, 'text': 'RT @LauraMaria1992: Delivery 📦 Love, love, love my art boards from @redbubble ❤️ Cannot wait to put these up 🙌… https://t.co/QVft8oQqGA', 'mined_at': datetime.datetime(2017, 7, 7, 19, 6, 50, 571876), 'created_at': 'Wed Jun 07 17:16:00 +0000 2017'}, {'tweet_id': 872483314082480130, 'handle': 'Redbubble', 'retweet_count': 4, 'text': 'That moment when you know the exact artwork to upload next on your RB page 💁 #RedbubbleFeels https://t.co/FVFpxuKJnk', 'mined_at': datetime.datetime(2017, 7, 7, 19, 6, 50, 902541), 'created_at': 'Wed Jun 07 16:00:06 +0000 2017'}, {'tweet_id': 872226601248927745, 'handle': 'Redbubble', 'retweet_count': 1, 'text': 'Art on mugs sure look dandy. 😋 » https://t.co/CQym3uJvqq #myrbthing https://t.co/TqFkjiEiev', 'mined_at': datetime.datetime(2017, 7, 7, 19, 6, 50, 902550), 'created_at': 'Tue Jun 06 23:00:01 +0000 2017'}, {'tweet_id': 872198803922735104, 'handle': 'Redbubble', 'retweet_count': 1, 'text': 'RT @lyndzaroo: Highlight of my day: getting the email that my @redbubble stickers have shipped!', 'mined_at': datetime.datetime(2017, 7, 7, 19, 6, 51, 219248), 'created_at': 'Tue Jun 06 21:09:34 +0000 2017'}, {'tweet_id': 872181302157553665, 'handle': 'Redbubble', 'retweet_count': 6, 'text': \"Gettin' foxy this #TypographyTuesday! » https://t.co/RDKUnFht9p 🐺 https://t.co/C56jqUll7z\", 'mined_at': datetime.datetime(2017, 7, 7, 19, 6, 51, 219256), 'created_at': 'Tue Jun 06 20:00:01 +0000 2017'}, {'tweet_id': 872120927877836800, 'handle': 'Redbubble', 'retweet_count': 3, 'text': 'When you make four sales in one day! 🏆🏆🏆🏆 #RedbubbleFeels https://t.co/GI4ZVTAnTr', 'mined_at': datetime.datetime(2017, 7, 7, 19, 6, 51, 568163), 'created_at': 'Tue Jun 06 16:00:07 +0000 2017'}, {'tweet_id': 871864236946980864, 'handle': 'Redbubble', 'retweet_count': 0, 'text': \"Rollin' with your crew wearing matching Redbubble threads be like. 😛 #RedbubbleFeels https://t.co/jG9dRA1xIs\", 'mined_at': datetime.datetime(2017, 7, 7, 19, 6, 51, 568171), 'created_at': 'Mon Jun 05 23:00:07 +0000 2017'}, {'tweet_id': 871843804235522049, 'handle': 'Redbubble', 'retweet_count': 2, 'text': 'RT @Neptunes_Net: I love that @redbubble always sends free stickers with my orders. :)', 'mined_at': datetime.datetime(2017, 7, 7, 19, 6, 51, 881569), 'created_at': 'Mon Jun 05 21:38:55 +0000 2017'}, {'tweet_id': 871842906113429504, 'handle': 'Redbubble', 'retweet_count': 3, 'text': 'RT @monsieurgordon: @redbubble : congratulations on the new \"you\\'ve made a sale\" email, it\\'s a real improvement! Commission in the title is…', 'mined_at': datetime.datetime(2017, 7, 7, 19, 6, 51, 881577), 'created_at': 'Mon Jun 05 21:35:21 +0000 2017'}, {'tweet_id': 871835965203116032, 'handle': 'Redbubble', 'retweet_count': 2, 'text': \"Many people ask us what Redbubble means. We're not really sure but here's a video. » https://t.co/phSnt2TkWh https://t.co/snSV8UKIVy\", 'mined_at': datetime.datetime(2017, 7, 7, 19, 6, 52, 210965), 'created_at': 'Mon Jun 05 21:07:46 +0000 2017'}, {'tweet_id': 871811741243523072, 'handle': 'Redbubble', 'retweet_count': 1, 'text': 'RT @lionnaaaaaaaaaa: forever thankful that @redbubble stickers can be removed after the first stick, so i can rearrange them 😍😅😇', 'mined_at': datetime.datetime(2017, 7, 7, 19, 6, 52, 210973), 'created_at': 'Mon Jun 05 19:31:31 +0000 2017'}, {'tweet_id': 871788715370307584, 'handle': 'Redbubble', 'retweet_count': 4, 'text': 'What part of the goat is your favorite? Ours is the Screamy Bleat Region » https://t.co/46SkL2RhEv 🐐 Art by… https://t.co/uDe84CmXuL', 'mined_at': datetime.datetime(2017, 7, 7, 19, 6, 52, 516153), 'created_at': 'Mon Jun 05 18:00:01 +0000 2017'}, {'tweet_id': 871758516687654913, 'handle': 'Redbubble', 'retweet_count': 19, 'text': 'Save on every single thing on Redbubble. 🎉 Use code GOFOR20 by June 5, 2017 at 11:59pm PT. » https://t.co/0zCvaW5pSq https://t.co/objX2LKObv', 'mined_at': datetime.datetime(2017, 7, 7, 19, 6, 52, 516161), 'created_at': 'Mon Jun 05 16:00:01 +0000 2017'}, {'tweet_id': 871501824691511297, 'handle': 'Redbubble', 'retweet_count': 3, 'text': \"Want to know #HowToSpotAFeminist ? She's probably wearing one of @tamaghosti's tees https://t.co/XGpbdcAolh\", 'mined_at': datetime.datetime(2017, 7, 7, 19, 6, 52, 850243), 'created_at': 'Sun Jun 04 23:00:01 +0000 2017'}, {'tweet_id': 871456549746749440, 'handle': 'Redbubble', 'retweet_count': 9, 'text': 'When an artist you admire on Redbubble follows you back 👏  #RedbubbleReaction https://t.co/Q0eCNjsxBs', 'mined_at': datetime.datetime(2017, 7, 7, 19, 6, 52, 850252), 'created_at': 'Sun Jun 04 20:00:06 +0000 2017'}, {'tweet_id': 871411228685553664, 'handle': 'Redbubble', 'retweet_count': 3, 'text': 'Let us prey. 😜  #RedbubbleArt by @Jose8a_c &gt;&gt; https://t.co/l98CET3h77 🙌 https://t.co/tUTOPdXqIY', 'mined_at': datetime.datetime(2017, 7, 7, 19, 6, 53, 188745), 'created_at': 'Sun Jun 04 17:00:01 +0000 2017'}, {'tweet_id': 871139437220163584, 'handle': 'Redbubble', 'retweet_count': 5, 'text': 'Pugs on pugs on pugs (thanks to @huebucket) » https://t.co/qRNUTI4ud7 😍 https://t.co/1vdU96z4K9', 'mined_at': datetime.datetime(2017, 7, 7, 19, 6, 53, 188753), 'created_at': 'Sat Jun 03 23:00:01 +0000 2017'}, {'tweet_id': 871094159997902849, 'handle': 'Redbubble', 'retweet_count': 6, 'text': 'How it feels when you put on a brand new Redbubble tee 💪  #RedbubbleFeels https://t.co/dsEaUFmpFH', 'mined_at': datetime.datetime(2017, 7, 7, 19, 6, 53, 497327), 'created_at': 'Sat Jun 03 20:00:06 +0000 2017'}, {'tweet_id': 871048839234564097, 'handle': 'Redbubble', 'retweet_count': 37, 'text': 'TRUTH. Artists, what kind of art are you making today? #lifewithout #art #inspiration https://t.co/BuJtfjh9Rx', 'mined_at': datetime.datetime(2017, 7, 7, 19, 6, 53, 497336), 'created_at': 'Sat Jun 03 17:00:01 +0000 2017'}, {'tweet_id': 870761951382687744, 'handle': 'Redbubble', 'retweet_count': 3, 'text': \"We're obsessed with #sushi! To the point of nori-turn 😝 🍣  » https://t.co/ceNts6gsEg https://t.co/etHn4jhG5N\", 'mined_at': datetime.datetime(2017, 7, 7, 19, 6, 53, 830231), 'created_at': 'Fri Jun 02 22:00:01 +0000 2017'}, {'tweet_id': 870758916006621186, 'handle': 'Redbubble', 'retweet_count': 1, 'text': \"RT @tootscocoa3986: Sorry for all the selfies today, but my Broadway dress from @redbubble came, and I'm obsessed. https://t.co/bGMVCimmS9\", 'mined_at': datetime.datetime(2017, 7, 7, 19, 6, 53, 830240), 'created_at': 'Fri Jun 02 21:47:58 +0000 2017'}, {'tweet_id': 870740378063740928, 'handle': 'Redbubble', 'retweet_count': 1, 'text': 'RT @PcYorkxv3: Many thanks to @redbubble 🙌🏼 deffo looking forward to opening this parcel! #stickers BUY 10 get 50% OFF! 💪🏼🎬 https://t.co/qz…', 'mined_at': datetime.datetime(2017, 7, 7, 19, 6, 54, 161014), 'created_at': 'Fri Jun 02 20:34:18 +0000 2017'}, {'tweet_id': 870740320660541441, 'handle': 'Redbubble', 'retweet_count': 1, 'text': \"RT @LoisEastlund: My mom's cat Neeno was the inspiration for my design on this @redbubble tee! 😻Shop link in… https://t.co/QWgbMAFrZe\", 'mined_at': datetime.datetime(2017, 7, 7, 19, 6, 54, 161023), 'created_at': 'Fri Jun 02 20:34:04 +0000 2017'}, {'tweet_id': 870739811291635712, 'handle': 'Redbubble', 'retweet_count': 1, 'text': \"RT @BenoistSmoak7: Ive just bought a bunch of stickers from @redbubble for my mac &amp; i can't wait to get them!☺️\", 'mined_at': datetime.datetime(2017, 7, 7, 19, 6, 54, 470559), 'created_at': 'Fri Jun 02 20:32:03 +0000 2017'}, {'tweet_id': 870701553912393728, 'handle': 'Redbubble', 'retweet_count': 5, 'text': \"We didn't choose the #puglife, the pug life chose us 👊 Top-selling pug designs on Redbubble »… https://t.co/Rbcv1FOUEi\", 'mined_at': datetime.datetime(2017, 7, 7, 19, 6, 54, 470570), 'created_at': 'Fri Jun 02 18:00:01 +0000 2017'}, {'tweet_id': 870671378944598020, 'handle': 'Redbubble', 'retweet_count': 1, 'text': 'When its almost your birthday, and you see your mom hide a Redbubble package as soon as it is delivered 🎁 https://t.co/dy92bpVUUt', 'mined_at': datetime.datetime(2017, 7, 7, 19, 6, 54, 810892), 'created_at': 'Fri Jun 02 16:00:07 +0000 2017'}, {'tweet_id': 870399562090819584, 'handle': 'Redbubble', 'retweet_count': 3, 'text': 'Pizza is our spirit animal. 😍🍕\\n\\nGet 10 small #stickers, save 50% » https://t.co/ppy0k1jEql ✌️ https://t.co/uw553Nll3h', 'mined_at': datetime.datetime(2017, 7, 7, 19, 6, 54, 810900), 'created_at': 'Thu Jun 01 22:00:01 +0000 2017'}, {'tweet_id': 870376688802086912, 'handle': 'Redbubble', 'retweet_count': 2, 'text': 'RT @APIdaysAU: GraphQL For Fun &amp; Profit by @tomjadams is now live on @InfoQ: https://t.co/rNuFPmvL0K #APIDaysAU #graphql', 'mined_at': datetime.datetime(2017, 7, 7, 19, 6, 55, 131850), 'created_at': 'Thu Jun 01 20:29:08 +0000 2017'}, {'tweet_id': 870369387924140037, 'handle': 'Redbubble', 'retweet_count': 3, 'text': \"When your Redbubble order arrives but there's nobody home to celebrate with.💃 #RedbubbleReaction https://t.co/ewoprjR9aq\", 'mined_at': datetime.datetime(2017, 7, 7, 19, 6, 55, 131858), 'created_at': 'Thu Jun 01 20:00:07 +0000 2017'}, {'tweet_id': 870339166160252928, 'handle': 'Redbubble', 'retweet_count': 18, 'text': 'Happy #Pride2017 to everyone! ❤️💛💚💙💜 » https://t.co/hRiwx8BiqY https://t.co/wOeMDwGx5x', 'mined_at': datetime.datetime(2017, 7, 7, 19, 6, 55, 451172), 'created_at': 'Thu Jun 01 18:00:01 +0000 2017'}, {'tweet_id': 870331521143422976, 'handle': 'Redbubble', 'retweet_count': 0, 'text': '@danielscotolson  https://t.co/Dci7abg8nd', 'mined_at': datetime.datetime(2017, 7, 7, 19, 6, 55, 451180), 'created_at': 'Thu Jun 01 17:29:39 +0000 2017'}, {'tweet_id': 870318579324928000, 'handle': 'Redbubble', 'retweet_count': 0, 'text': '@kome_pollo  https://t.co/4MnJtMDNlj', 'mined_at': datetime.datetime(2017, 7, 7, 19, 6, 55, 845087), 'created_at': 'Thu Jun 01 16:38:13 +0000 2017'}, {'tweet_id': 870317789814210560, 'handle': 'Redbubble', 'retweet_count': 0, 'text': '@DaveyBlahBlah  https://t.co/Ad5KrVWpOn', 'mined_at': datetime.datetime(2017, 7, 7, 19, 6, 55, 845095), 'created_at': 'Thu Jun 01 16:35:05 +0000 2017'}, {'tweet_id': 870308966915506176, 'handle': 'Redbubble', 'retweet_count': 7, 'text': 'Stick more, save more. Get 10 small #stickers, save 50% » https://t.co/ppy0k1BfOV ✌️ https://t.co/lGBfiPyfqG', 'mined_at': datetime.datetime(2017, 7, 7, 19, 6, 56, 162842), 'created_at': 'Thu Jun 01 16:00:01 +0000 2017'}, {'tweet_id': 870067373637816320, 'handle': 'Redbubble', 'retweet_count': 14, 'text': 'How many cups of #covfefe have you had today? Us? Too many... 😝 » https://t.co/kQYejYp3pX ☕️ https://t.co/v7xDgeTCnR', 'mined_at': datetime.datetime(2017, 7, 7, 19, 6, 56, 162850), 'created_at': 'Thu Jun 01 00:00:01 +0000 2017'}, {'tweet_id': 870037175894765570, 'handle': 'Redbubble', 'retweet_count': 2, 'text': 'Get paid to make art. Hang with nice people. Learn cool stuff. 🙌 Apply for the 2017 RB Residency by June 2nd! »… https://t.co/ePkPljlFLH', 'mined_at': datetime.datetime(2017, 7, 7, 19, 6, 56, 486013), 'created_at': 'Wed May 31 22:00:01 +0000 2017'}, {'tweet_id': 869993133966147584, 'handle': 'Redbubble', 'retweet_count': 8, 'text': 'We all have a brain fart from time to time, and some of us more often than others… #covfefe »… https://t.co/Ulqcac0x3I', 'mined_at': datetime.datetime(2017, 7, 7, 19, 6, 56, 486021), 'created_at': 'Wed May 31 19:05:01 +0000 2017'}, {'tweet_id': 869976776146997248, 'handle': 'Redbubble', 'retweet_count': 0, 'text': '✏This #WIPWednesday, take a look at the brilliant detail of the talented @micklynl » https://t.co/VW1vZ1Xguj 🙌 https://t.co/UBQpbqC2Yx', 'mined_at': datetime.datetime(2017, 7, 7, 19, 6, 56, 790352), 'created_at': 'Wed May 31 18:00:01 +0000 2017'}, {'tweet_id': 869946598998122496, 'handle': 'Redbubble', 'retweet_count': 4, 'text': 'Mom: Finish your dinner first, then you can go on that Redbubble.\\n\\nYou: https://t.co/jx9tHYHFUU', 'mined_at': datetime.datetime(2017, 7, 7, 19, 6, 56, 790362), 'created_at': 'Wed May 31 16:00:06 +0000 2017'}, {'tweet_id': 869689885594136576, 'handle': 'Redbubble', 'retweet_count': 2, 'text': \"#Cats don't really belong in burgers, but they do belong on every tech device you own » https://t.co/nlJG1JXDgY Who… https://t.co/M9vOU268ip\", 'mined_at': datetime.datetime(2017, 7, 7, 19, 6, 57, 95811), 'created_at': 'Tue May 30 23:00:01 +0000 2017'}, {'tweet_id': 869644587404587008, 'handle': 'Redbubble', 'retweet_count': 5, 'text': '#TravelTuesday 🚙  #RedbubbleArt by @rickacrane and @ndtankdesign &gt;&gt; https://t.co/GeZXKSQUDA https://t.co/FRwvUoRZ0U', 'mined_at': datetime.datetime(2017, 7, 7, 19, 6, 57, 95819), 'created_at': 'Tue May 30 20:00:01 +0000 2017'}, {'tweet_id': 869614411882934272, 'handle': 'Redbubble', 'retweet_count': 3, 'text': 'TFW \"Your RB order has been shipped!\" #RedbubbleReaction 🙌 https://t.co/X36rY81aNG', 'mined_at': datetime.datetime(2017, 7, 7, 19, 6, 57, 409169), 'created_at': 'Tue May 30 18:00:07 +0000 2017'}, {'tweet_id': 869584188986580993, 'handle': 'Redbubble', 'retweet_count': 10, 'text': 'Catch some savings. Get 20% off sitewide. 🌊 Use code HERES20 by May 30, 2017 at 11:59pm PT. »… https://t.co/453oqoJHMo', 'mined_at': datetime.datetime(2017, 7, 7, 19, 6, 57, 409176), 'created_at': 'Tue May 30 16:00:01 +0000 2017'}, {'tweet_id': 869312421025939456, 'handle': 'Redbubble', 'retweet_count': 5, 'text': 'TFW you\\'re going through the \"which design to order\" dilemma 😩  #RedbubbleFeels https://t.co/2W6RYIeqaX', 'mined_at': datetime.datetime(2017, 7, 7, 19, 6, 57, 712183), 'created_at': 'Mon May 29 22:00:06 +0000 2017'}, {'tweet_id': 869282200117792768, 'handle': 'Redbubble', 'retweet_count': 4, 'text': 'Be kick-ass. #MondayMotivation 🎮 👾  #RedbubbleArt by @letter_q &gt;&gt; https://t.co/1Gww5JPp8n https://t.co/e0D732lo6g', 'mined_at': datetime.datetime(2017, 7, 7, 19, 6, 57, 712192), 'created_at': 'Mon May 29 20:00:01 +0000 2017'}, {'tweet_id': 869252001435144192, 'handle': 'Redbubble', 'retweet_count': 6, 'text': \"It's #MemorialDay 🎉 You know what that means! Why, the first day of summer of course. 😎  Art by @kostolom3000 »… https://t.co/hMudbz4l4O\", 'mined_at': datetime.datetime(2017, 7, 7, 19, 6, 58, 60071), 'created_at': 'Mon May 29 18:00:01 +0000 2017'}, {'tweet_id': 869221803171995650, 'handle': 'Redbubble', 'retweet_count': 19, 'text': 'You came, you saw, you get 20% off. 🎯 Use code HERES20 at checkout. » https://t.co/vTbSNfP5O7 #SitewideSale https://t.co/DmUvXM2ZAY', 'mined_at': datetime.datetime(2017, 7, 7, 19, 6, 58, 60082), 'created_at': 'Mon May 29 16:00:01 +0000 2017'}, {'tweet_id': 868965133996916737, 'handle': 'Redbubble', 'retweet_count': 5, 'text': \"When you go to your favorite artist's RB page 😍  #RedbubbleFeels https://t.co/hOEXbuYdx1\", 'mined_at': datetime.datetime(2017, 7, 7, 19, 6, 58, 535124), 'created_at': 'Sun May 28 23:00:07 +0000 2017'}, {'tweet_id': 868919810419240962, 'handle': 'Redbubble', 'retweet_count': 5, 'text': \"@MissMousieMouse takin' the t-shirt game to the next level 🔥r » https://t.co/4OFceloN37 💪 https://t.co/dN06wlkmf4\", 'mined_at': datetime.datetime(2017, 7, 7, 19, 6, 58, 535132), 'created_at': 'Sun May 28 20:00:01 +0000 2017'}, {'tweet_id': 868889636634066944, 'handle': 'Redbubble', 'retweet_count': 2, 'text': 'Walking into a room wearing a new RB chiffon top be like... 👑  #RedbubbleFeels https://t.co/AdRXgSzxkg', 'mined_at': datetime.datetime(2017, 7, 7, 19, 6, 58, 848709), 'created_at': 'Sun May 28 18:00:07 +0000 2017'}, {'tweet_id': 868859414186520580, 'handle': 'Redbubble', 'retweet_count': 8, 'text': '\"Until now, best artist to follow for me is growth of nature.\" - Ruta Dumalakaite » https://t.co/RuSlEC6726 🌳 https://t.co/CtS2QFvzch', 'mined_at': datetime.datetime(2017, 7, 7, 19, 6, 58, 848716), 'created_at': 'Sun May 28 16:00:01 +0000 2017'}, {'tweet_id': 868602722060300288, 'handle': 'Redbubble', 'retweet_count': 2, 'text': 'Redbubble: Making boring tech awesome again with a breath of fresh air 🌲 » https://t.co/HKtmb1msW3 https://t.co/X9wRphLf4h', 'mined_at': datetime.datetime(2017, 7, 7, 19, 6, 59, 164176), 'created_at': 'Sat May 27 23:00:01 +0000 2017'}, {'tweet_id': 868572523998445569, 'handle': 'Redbubble', 'retweet_count': 3, 'text': 'Though @Vengelfe be but little, she is definitely fierce (scarf by @CatCoq 😺) » https://t.co/hfOI40vQv2 https://t.co/ahMpMUvdx4', 'mined_at': datetime.datetime(2017, 7, 7, 19, 6, 59, 164184), 'created_at': 'Sat May 27 21:00:01 +0000 2017'}, {'tweet_id': 868542347272957952, 'handle': 'Redbubble', 'retweet_count': 0, 'text': 'That first dance to show off a pair of brand new RB leggings be like. #RedbubbleReaction 😋 https://t.co/xJ4wwnClfU', 'mined_at': datetime.datetime(2017, 7, 7, 19, 6, 59, 511423), 'created_at': 'Sat May 27 19:00:06 +0000 2017'}, {'tweet_id': 868512124334727168, 'handle': 'Redbubble', 'retweet_count': 6, 'text': \"What's your wardrobe without some space #unicorns?? Seriously. » https://t.co/7L5e62Cgjq https://t.co/VLss6h1roZ\", 'mined_at': datetime.datetime(2017, 7, 7, 19, 6, 59, 511431), 'created_at': 'Sat May 27 17:00:01 +0000 2017'}, {'tweet_id': 868270556436725760, 'handle': 'Redbubble', 'retweet_count': 4, 'text': 'When you introduce your friend to Redbubble for the first time 😱  #RedbubbleReaction https://t.co/BSM72euMOy', 'mined_at': datetime.datetime(2017, 7, 7, 19, 6, 59, 822014), 'created_at': 'Sat May 27 01:00:06 +0000 2017'}, {'tweet_id': 868240334433726469, 'handle': 'Redbubble', 'retweet_count': 5, 'text': \"She's one of our favorite clever girls :') @TradeChat @PencilCat »  https://t.co/Xj6q7Ehl9s https://t.co/UJTaMszqpH\", 'mined_at': datetime.datetime(2017, 7, 7, 19, 6, 59, 822035), 'created_at': 'Fri May 26 23:00:01 +0000 2017'}, {'tweet_id': 868216117587623936, 'handle': 'Redbubble', 'retweet_count': 24, 'text': \"25% off ALL apparel. That's right. All. Of. It. Get excited.🎉 Use code STUFFTOWEAR by May 28, 2017 at 11:59pm PT. »… https://t.co/JbzV9h7S8h\", 'mined_at': datetime.datetime(2017, 7, 7, 19, 7, 0, 151506), 'created_at': 'Fri May 26 21:23:47 +0000 2017'}, {'tweet_id': 868212866045706240, 'handle': 'Redbubble', 'retweet_count': 1, 'text': 'RT @GoldsGilly: @redbubble just wanted to say that I love you guys. Keep up the good work. P.S I only slap bears, never pandas 😜', 'mined_at': datetime.datetime(2017, 7, 7, 19, 7, 0, 151514), 'created_at': 'Fri May 26 21:10:52 +0000 2017'}]\n"
     ]
    }
   ],
   "source": [
    "print(redbubble)"
   ]
  },
  {
   "cell_type": "code",
   "execution_count": null,
   "metadata": {},
   "outputs": [],
   "source": [
    "redbubble_df = pd.DataFrame(redbubble)"
   ]
  },
  {
   "cell_type": "code",
   "execution_count": null,
   "metadata": {},
   "outputs": [],
   "source": [
    "redbubble_df.shape"
   ]
  },
  {
   "cell_type": "code",
   "execution_count": null,
   "metadata": {},
   "outputs": [],
   "source": [
    "redbubble_df.head()"
   ]
  },
  {
   "cell_type": "markdown",
   "metadata": {},
   "source": [
    "## Any interesting n-grams?"
   ]
  },
  {
   "cell_type": "code",
   "execution_count": null,
   "metadata": {},
   "outputs": [],
   "source": [
    "from sklearn.feature_extraction.text import TfidfVectorizer\n",
    "from collections import Counter\n",
    "\n",
    "# We can use the TfidfVectorizer to find ngrams for us\n",
    "vect = TfidfVectorizer(ngram_range=(2,4))\n",
    "\n",
    "# Pulls all of trumps tweet text's into one giant string\n",
    "summaries = \"\".join(redbubble_df['text'])\n",
    "ngrams_summaries = vect.build_analyzer()(summaries)\n",
    "\n",
    "Counter(ngrams_summaries).most_common(20)"
   ]
  },
  {
   "cell_type": "code",
   "execution_count": null,
   "metadata": {
    "collapsed": true
   },
   "outputs": [],
   "source": [
    "tweets = redbubble_df"
   ]
  },
  {
   "cell_type": "code",
   "execution_count": null,
   "metadata": {
    "collapsed": true
   },
   "outputs": [],
   "source": [
    "# Using the textacy package to do some more comprehensive preprocessing\n",
    "# http://textacy.readthedocs.io/en/latest/\n",
    "from textacy.preprocess import preprocess_text\n",
    "\n",
    "tweet_text = tweets['text'].values\n",
    "clean_text = [preprocess_text(x, fix_unicode=True, lowercase=True, transliterate=False,\n",
    "                              no_urls=True, no_emails=True, no_phone_numbers=True, no_currency_symbols=True,\n",
    "                              no_punct=True, no_accents=True)\n",
    "              for x in tweet_text]"
   ]
  },
  {
   "cell_type": "code",
   "execution_count": null,
   "metadata": {},
   "outputs": [],
   "source": [
    "print(tweet_text[0:3])"
   ]
  },
  {
   "cell_type": "code",
   "execution_count": null,
   "metadata": {},
   "outputs": [],
   "source": [
    "print(clean_text[0:3])"
   ]
  },
  {
   "cell_type": "code",
   "execution_count": null,
   "metadata": {
    "collapsed": true
   },
   "outputs": [],
   "source": [
    "import seaborn as sns\n",
    "import matplotlib.pyplot as plt"
   ]
  },
  {
   "cell_type": "code",
   "execution_count": null,
   "metadata": {},
   "outputs": [],
   "source": [
    "# What is the average re-tweet count\n",
    "tweets.retweet_count.describe()"
   ]
  },
  {
   "cell_type": "code",
   "execution_count": null,
   "metadata": {},
   "outputs": [],
   "source": [
    "sns.boxplot(x=tweets['retweet_count'])\n",
    "plt.show()"
   ]
  },
  {
   "cell_type": "code",
   "execution_count": null,
   "metadata": {},
   "outputs": [],
   "source": [
    "# target is the handle.\n",
    "# make trump 1 and sanders 0\n",
    "y = tweets['retweet_count'].map(lambda x: 1 if x > 10 else 0).values"
   ]
  },
  {
   "cell_type": "code",
   "execution_count": null,
   "metadata": {},
   "outputs": [],
   "source": [
    "print(np.mean(y))"
   ]
  },
  {
   "cell_type": "code",
   "execution_count": null,
   "metadata": {
    "collapsed": true
   },
   "outputs": [],
   "source": [
    "tweets['retweet'] = y"
   ]
  },
  {
   "cell_type": "code",
   "execution_count": null,
   "metadata": {},
   "outputs": [],
   "source": [
    "tweets[tweets['retweet'] == 1].head()"
   ]
  },
  {
   "cell_type": "code",
   "execution_count": 51,
   "metadata": {},
   "outputs": [
    {
     "name": "stdout",
     "output_type": "stream",
     "text": [
      "(200, 1000)\n"
     ]
    }
   ],
   "source": [
    "from sklearn.linear_model import LogisticRegression\n",
    "\n",
    "# Preprocess our text data to Tfidf\n",
    "tfv = TfidfVectorizer(ngram_range=(1,4), max_features=1000)\n",
    "X = tfv.fit_transform(clean_text).todense()\n",
    "print(X.shape)"
   ]
  },
  {
   "cell_type": "code",
   "execution_count": null,
   "metadata": {},
   "outputs": [],
   "source": [
    "# cross-validate the accuracy:\n",
    "from sklearn.model_selection import cross_val_score\n",
    "accuracies = cross_val_score(LogisticRegression(), X, y, cv=2)\n",
    "\n",
    "import numpy as np\n",
    "print (accuracies)\n",
    "print (np.mean(accuracies))\n",
    "\n",
    "# Setup logistic regression (or try another classification method here)\n",
    "estimator = LogisticRegression()\n",
    "estimator.fit(X, y)"
   ]
  },
  {
   "cell_type": "markdown",
   "metadata": {},
   "source": [
    "## 2. Write to twitter api"
   ]
  },
  {
   "cell_type": "code",
   "execution_count": 109,
   "metadata": {},
   "outputs": [],
   "source": [
    "import tweepy\n",
    "\n",
    "consumer_key=        '3Fj7Pe0KT2ykaMqZO30bdur60'\n",
    "consumer_secret=     'IoIrOGZg8n4bXPVb9KWTlKnQSCnb9csXjPwGTjmFHSb8zaqt0w'\n",
    "access_token_key=    '60872859-5wHCWu9NOF29yX5AgosKPs6ZAebbAZH4ptAQTFhOq'\n",
    "access_token_secret= 'jjS7bK5DE2a2fFu5R8wafbBVURiStn8DB1aZRoDLoBUBP'\n",
    "        \n",
    "# Set up OAuth and integrate with API\n",
    "auth = tweepy.OAuthHandler(consumer_key, consumer_secret)\n",
    "auth.set_access_token(access_token_key, access_token_secret)\n",
    "api = tweepy.API(auth)\n",
    "\n"
   ]
  },
  {
   "cell_type": "code",
   "execution_count": 110,
   "metadata": {
    "collapsed": true
   },
   "outputs": [],
   "source": [
    "def post_tweet(msg):\n",
    "    print(api.me().name)\n",
    "    api.update_status(msg)\n",
    "#     api.update_with_media('cloud.png', status = msg)"
   ]
  },
  {
   "cell_type": "code",
   "execution_count": 72,
   "metadata": {},
   "outputs": [],
   "source": [
    "# Write a tweet to push to our Twitter account\n",
    "post_tweet()'Hello twitter, I am writing to you using @tweepy')"
   ]
  },
  {
   "cell_type": "code",
   "execution_count": 116,
   "metadata": {},
   "outputs": [],
   "source": [
    "#override tweepy.StreamListener to add logic to on_status\n",
    "class MyStreamListener(tweepy.StreamListener):\n",
    "\n",
    "    def on_status(self, status):\n",
    "        print(status.text)\n",
    "#     def on_error(self, status_code):\n",
    "#         if status_code == 420:\n",
    "#             #returning False in on_data disconnects the stream\n",
    "#             return False\n",
    "#     def disconnect(self):\n",
    "#         if self.running is False:\n",
    "#             return\n",
    "#         self.running = False"
   ]
  },
  {
   "cell_type": "code",
   "execution_count": 117,
   "metadata": {},
   "outputs": [],
   "source": [
    "myStreamListener = MyStreamListener()\n",
    "myStream = tweepy.Stream(auth = api.auth, listener=myStreamListener)"
   ]
  },
  {
   "cell_type": "code",
   "execution_count": 119,
   "metadata": {},
   "outputs": [],
   "source": [
    "myStream.filter(track=['python'])"
   ]
  },
  {
   "cell_type": "code",
   "execution_count": null,
   "metadata": {},
   "outputs": [],
   "source": []
  },
  {
   "cell_type": "code",
   "execution_count": null,
   "metadata": {
    "collapsed": true
   },
   "outputs": [],
   "source": []
  }
 ],
 "metadata": {
  "kernelspec": {
   "display_name": "Python 3",
   "language": "python",
   "name": "python3"
  },
  "language_info": {
   "codemirror_mode": {
    "name": "ipython",
    "version": 3
   },
   "file_extension": ".py",
   "mimetype": "text/x-python",
   "name": "python",
   "nbconvert_exporter": "python",
   "pygments_lexer": "ipython3",
   "version": "3.6.0"
  }
 },
 "nbformat": 4,
 "nbformat_minor": 2
}
